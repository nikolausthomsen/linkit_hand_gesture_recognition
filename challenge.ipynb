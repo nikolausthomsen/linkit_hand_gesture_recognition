{
 "cells": [
  {
   "attachments": {},
   "cell_type": "markdown",
   "metadata": {
    "pycharm": {
     "name": "#%% md\n"
    }
   },
   "source": [
    "# Linkit Challenge WS 2022/23 Hand Gesture Detection - Team X"
   ]
  },
  {
   "attachments": {},
   "cell_type": "markdown",
   "metadata": {
    "pycharm": {
     "name": "#%% md\n"
    }
   },
   "source": [
    "## 1. Setup\n"
   ]
  },
  {
   "attachments": {},
   "cell_type": "markdown",
   "metadata": {},
   "source": [
    "First, you usually create a virtual environment where you can keep track of all package versions.\n",
    "Create the environment with the following command in Terminal (Mac)/ CMD (Windows)\n",
    "\n",
    "python3 -m venv venv\n",
    "\n",
    "\n",
    "Then activate it with\n",
    "- in CMD: venv\\Scripts\\activate\n",
    "- in Terminal: . venv/bin/activate"
   ]
  },
  {
   "cell_type": "code",
   "execution_count": 1,
   "metadata": {},
   "outputs": [
    {
     "name": "stdout",
     "output_type": "stream",
     "text": [
      "Requirement already satisfied: absl-py==1.3.0 in /Users/justusthomsen/Documents/LinkIT/Challenges/linkit_hand_gesture_recognition/venv/lib/python3.10/site-packages (from -r requirements.txt (line 1)) (1.3.0)\n",
      "Requirement already satisfied: aiohttp==3.8.3 in /Users/justusthomsen/Documents/LinkIT/Challenges/linkit_hand_gesture_recognition/venv/lib/python3.10/site-packages (from -r requirements.txt (line 2)) (3.8.3)\n",
      "Requirement already satisfied: aiosignal==1.3.1 in /Users/justusthomsen/Documents/LinkIT/Challenges/linkit_hand_gesture_recognition/venv/lib/python3.10/site-packages (from -r requirements.txt (line 3)) (1.3.1)\n",
      "Requirement already satisfied: anyio==3.6.2 in /Users/justusthomsen/Documents/LinkIT/Challenges/linkit_hand_gesture_recognition/venv/lib/python3.10/site-packages (from -r requirements.txt (line 4)) (3.6.2)\n",
      "Requirement already satisfied: appnope==0.1.3 in /Users/justusthomsen/Documents/LinkIT/Challenges/linkit_hand_gesture_recognition/venv/lib/python3.10/site-packages (from -r requirements.txt (line 5)) (0.1.3)\n",
      "Requirement already satisfied: argon2-cffi==21.3.0 in /Users/justusthomsen/Documents/LinkIT/Challenges/linkit_hand_gesture_recognition/venv/lib/python3.10/site-packages (from -r requirements.txt (line 6)) (21.3.0)\n",
      "Requirement already satisfied: argon2-cffi-bindings==21.2.0 in /Users/justusthomsen/Documents/LinkIT/Challenges/linkit_hand_gesture_recognition/venv/lib/python3.10/site-packages (from -r requirements.txt (line 7)) (21.2.0)\n",
      "Requirement already satisfied: asttokens==2.2.1 in /Users/justusthomsen/Documents/LinkIT/Challenges/linkit_hand_gesture_recognition/venv/lib/python3.10/site-packages (from -r requirements.txt (line 8)) (2.2.1)\n",
      "Requirement already satisfied: async-timeout==4.0.2 in /Users/justusthomsen/Documents/LinkIT/Challenges/linkit_hand_gesture_recognition/venv/lib/python3.10/site-packages (from -r requirements.txt (line 9)) (4.0.2)\n",
      "Requirement already satisfied: attrs==22.1.0 in /Users/justusthomsen/Documents/LinkIT/Challenges/linkit_hand_gesture_recognition/venv/lib/python3.10/site-packages (from -r requirements.txt (line 10)) (22.1.0)\n",
      "Requirement already satisfied: Babel==2.11.0 in /Users/justusthomsen/Documents/LinkIT/Challenges/linkit_hand_gesture_recognition/venv/lib/python3.10/site-packages (from -r requirements.txt (line 11)) (2.11.0)\n",
      "Requirement already satisfied: backcall==0.2.0 in /Users/justusthomsen/Documents/LinkIT/Challenges/linkit_hand_gesture_recognition/venv/lib/python3.10/site-packages (from -r requirements.txt (line 12)) (0.2.0)\n",
      "Requirement already satisfied: beautifulsoup4==4.11.1 in /Users/justusthomsen/Documents/LinkIT/Challenges/linkit_hand_gesture_recognition/venv/lib/python3.10/site-packages (from -r requirements.txt (line 13)) (4.11.1)\n",
      "Requirement already satisfied: bleach==5.0.1 in /Users/justusthomsen/Documents/LinkIT/Challenges/linkit_hand_gesture_recognition/venv/lib/python3.10/site-packages (from -r requirements.txt (line 14)) (5.0.1)\n",
      "Requirement already satisfied: cachetools==5.2.0 in /Users/justusthomsen/Documents/LinkIT/Challenges/linkit_hand_gesture_recognition/venv/lib/python3.10/site-packages (from -r requirements.txt (line 15)) (5.2.0)\n",
      "Requirement already satisfied: certifi==2022.9.24 in /Users/justusthomsen/Documents/LinkIT/Challenges/linkit_hand_gesture_recognition/venv/lib/python3.10/site-packages (from -r requirements.txt (line 16)) (2022.9.24)\n",
      "Requirement already satisfied: cffi==1.15.1 in /Users/justusthomsen/Documents/LinkIT/Challenges/linkit_hand_gesture_recognition/venv/lib/python3.10/site-packages (from -r requirements.txt (line 17)) (1.15.1)\n",
      "Requirement already satisfied: charset-normalizer==2.1.1 in /Users/justusthomsen/Documents/LinkIT/Challenges/linkit_hand_gesture_recognition/venv/lib/python3.10/site-packages (from -r requirements.txt (line 18)) (2.1.1)\n",
      "Requirement already satisfied: click==8.1.3 in /Users/justusthomsen/Documents/LinkIT/Challenges/linkit_hand_gesture_recognition/venv/lib/python3.10/site-packages (from -r requirements.txt (line 19)) (8.1.3)\n",
      "Requirement already satisfied: contourpy==1.0.6 in /Users/justusthomsen/Documents/LinkIT/Challenges/linkit_hand_gesture_recognition/venv/lib/python3.10/site-packages (from -r requirements.txt (line 20)) (1.0.6)\n",
      "Requirement already satisfied: cycler==0.11.0 in /Users/justusthomsen/Documents/LinkIT/Challenges/linkit_hand_gesture_recognition/venv/lib/python3.10/site-packages (from -r requirements.txt (line 21)) (0.11.0)\n",
      "Requirement already satisfied: debugpy==1.6.4 in /Users/justusthomsen/Documents/LinkIT/Challenges/linkit_hand_gesture_recognition/venv/lib/python3.10/site-packages (from -r requirements.txt (line 22)) (1.6.4)\n",
      "Requirement already satisfied: decorator==5.1.1 in /Users/justusthomsen/Documents/LinkIT/Challenges/linkit_hand_gesture_recognition/venv/lib/python3.10/site-packages (from -r requirements.txt (line 23)) (5.1.1)\n",
      "Requirement already satisfied: defusedxml==0.7.1 in /Users/justusthomsen/Documents/LinkIT/Challenges/linkit_hand_gesture_recognition/venv/lib/python3.10/site-packages (from -r requirements.txt (line 24)) (0.7.1)\n",
      "Requirement already satisfied: docker-pycreds==0.4.0 in /Users/justusthomsen/Documents/LinkIT/Challenges/linkit_hand_gesture_recognition/venv/lib/python3.10/site-packages (from -r requirements.txt (line 25)) (0.4.0)\n",
      "Requirement already satisfied: entrypoints==0.4 in /Users/justusthomsen/Documents/LinkIT/Challenges/linkit_hand_gesture_recognition/venv/lib/python3.10/site-packages (from -r requirements.txt (line 26)) (0.4)\n",
      "Requirement already satisfied: executing==1.2.0 in /Users/justusthomsen/Documents/LinkIT/Challenges/linkit_hand_gesture_recognition/venv/lib/python3.10/site-packages (from -r requirements.txt (line 27)) (1.2.0)\n",
      "Requirement already satisfied: fastjsonschema==2.16.2 in /Users/justusthomsen/Documents/LinkIT/Challenges/linkit_hand_gesture_recognition/venv/lib/python3.10/site-packages (from -r requirements.txt (line 28)) (2.16.2)\n",
      "Requirement already satisfied: fire==0.4.0 in /Users/justusthomsen/Documents/LinkIT/Challenges/linkit_hand_gesture_recognition/venv/lib/python3.10/site-packages (from -r requirements.txt (line 29)) (0.4.0)\n",
      "Requirement already satisfied: fonttools==4.38.0 in /Users/justusthomsen/Documents/LinkIT/Challenges/linkit_hand_gesture_recognition/venv/lib/python3.10/site-packages (from -r requirements.txt (line 30)) (4.38.0)\n",
      "Requirement already satisfied: frozenlist==1.3.3 in /Users/justusthomsen/Documents/LinkIT/Challenges/linkit_hand_gesture_recognition/venv/lib/python3.10/site-packages (from -r requirements.txt (line 31)) (1.3.3)\n",
      "Requirement already satisfied: fsspec==2022.11.0 in /Users/justusthomsen/Documents/LinkIT/Challenges/linkit_hand_gesture_recognition/venv/lib/python3.10/site-packages (from -r requirements.txt (line 32)) (2022.11.0)\n",
      "Requirement already satisfied: gitdb==4.0.10 in /Users/justusthomsen/Documents/LinkIT/Challenges/linkit_hand_gesture_recognition/venv/lib/python3.10/site-packages (from -r requirements.txt (line 33)) (4.0.10)\n",
      "Collecting GitPython==3.1.29\n",
      "  Using cached GitPython-3.1.29-py3-none-any.whl (182 kB)\n",
      "Requirement already satisfied: google-auth==2.15.0 in /Users/justusthomsen/Documents/LinkIT/Challenges/linkit_hand_gesture_recognition/venv/lib/python3.10/site-packages (from -r requirements.txt (line 35)) (2.15.0)\n",
      "Requirement already satisfied: google-auth-oauthlib==0.4.6 in /Users/justusthomsen/Documents/LinkIT/Challenges/linkit_hand_gesture_recognition/venv/lib/python3.10/site-packages (from -r requirements.txt (line 36)) (0.4.6)\n",
      "Requirement already satisfied: grpcio==1.51.1 in /Users/justusthomsen/Documents/LinkIT/Challenges/linkit_hand_gesture_recognition/venv/lib/python3.10/site-packages (from -r requirements.txt (line 37)) (1.51.1)\n",
      "Requirement already satisfied: idna==3.4 in /Users/justusthomsen/Documents/LinkIT/Challenges/linkit_hand_gesture_recognition/venv/lib/python3.10/site-packages (from -r requirements.txt (line 38)) (3.4)\n",
      "Requirement already satisfied: ipykernel==6.17.1 in /Users/justusthomsen/Documents/LinkIT/Challenges/linkit_hand_gesture_recognition/venv/lib/python3.10/site-packages (from -r requirements.txt (line 39)) (6.17.1)\n",
      "Requirement already satisfied: ipython==8.7.0 in /Users/justusthomsen/Documents/LinkIT/Challenges/linkit_hand_gesture_recognition/venv/lib/python3.10/site-packages (from -r requirements.txt (line 40)) (8.7.0)\n",
      "Requirement already satisfied: ipython-genutils==0.2.0 in /Users/justusthomsen/Documents/LinkIT/Challenges/linkit_hand_gesture_recognition/venv/lib/python3.10/site-packages (from -r requirements.txt (line 41)) (0.2.0)\n",
      "Requirement already satisfied: jedi==0.18.2 in /Users/justusthomsen/Documents/LinkIT/Challenges/linkit_hand_gesture_recognition/venv/lib/python3.10/site-packages (from -r requirements.txt (line 42)) (0.18.2)\n",
      "Requirement already satisfied: Jinja2==3.1.2 in /Users/justusthomsen/Documents/LinkIT/Challenges/linkit_hand_gesture_recognition/venv/lib/python3.10/site-packages (from -r requirements.txt (line 43)) (3.1.2)\n",
      "Requirement already satisfied: json5==0.9.10 in /Users/justusthomsen/Documents/LinkIT/Challenges/linkit_hand_gesture_recognition/venv/lib/python3.10/site-packages (from -r requirements.txt (line 44)) (0.9.10)\n",
      "Requirement already satisfied: jsonschema==4.17.3 in /Users/justusthomsen/Documents/LinkIT/Challenges/linkit_hand_gesture_recognition/venv/lib/python3.10/site-packages (from -r requirements.txt (line 45)) (4.17.3)\n",
      "Requirement already satisfied: jupyter_client==7.4.8 in /Users/justusthomsen/Documents/LinkIT/Challenges/linkit_hand_gesture_recognition/venv/lib/python3.10/site-packages (from -r requirements.txt (line 46)) (7.4.8)\n",
      "Requirement already satisfied: jupyter_core==5.1.0 in /Users/justusthomsen/Documents/LinkIT/Challenges/linkit_hand_gesture_recognition/venv/lib/python3.10/site-packages (from -r requirements.txt (line 47)) (5.1.0)\n",
      "Requirement already satisfied: jupyter-server==1.23.3 in /Users/justusthomsen/Documents/LinkIT/Challenges/linkit_hand_gesture_recognition/venv/lib/python3.10/site-packages (from -r requirements.txt (line 48)) (1.23.3)\n",
      "Requirement already satisfied: jupyterlab==3.5.1 in /Users/justusthomsen/Documents/LinkIT/Challenges/linkit_hand_gesture_recognition/venv/lib/python3.10/site-packages (from -r requirements.txt (line 49)) (3.5.1)\n",
      "Requirement already satisfied: jupyterlab-pygments==0.2.2 in /Users/justusthomsen/Documents/LinkIT/Challenges/linkit_hand_gesture_recognition/venv/lib/python3.10/site-packages (from -r requirements.txt (line 50)) (0.2.2)\n",
      "Requirement already satisfied: jupyterlab_server==2.16.3 in /Users/justusthomsen/Documents/LinkIT/Challenges/linkit_hand_gesture_recognition/venv/lib/python3.10/site-packages (from -r requirements.txt (line 51)) (2.16.3)\n",
      "Requirement already satisfied: kiwisolver==1.4.4 in /Users/justusthomsen/Documents/LinkIT/Challenges/linkit_hand_gesture_recognition/venv/lib/python3.10/site-packages (from -r requirements.txt (line 52)) (1.4.4)\n",
      "Requirement already satisfied: lightning-utilities==0.3.0 in /Users/justusthomsen/Documents/LinkIT/Challenges/linkit_hand_gesture_recognition/venv/lib/python3.10/site-packages (from -r requirements.txt (line 53)) (0.3.0)\n",
      "Requirement already satisfied: Markdown==3.4.1 in /Users/justusthomsen/Documents/LinkIT/Challenges/linkit_hand_gesture_recognition/venv/lib/python3.10/site-packages (from -r requirements.txt (line 54)) (3.4.1)\n",
      "Requirement already satisfied: MarkupSafe==2.1.1 in /Users/justusthomsen/Documents/LinkIT/Challenges/linkit_hand_gesture_recognition/venv/lib/python3.10/site-packages (from -r requirements.txt (line 55)) (2.1.1)\n",
      "Requirement already satisfied: matplotlib==3.6.2 in /Users/justusthomsen/Documents/LinkIT/Challenges/linkit_hand_gesture_recognition/venv/lib/python3.10/site-packages (from -r requirements.txt (line 56)) (3.6.2)\n",
      "Requirement already satisfied: matplotlib-inline==0.1.6 in /Users/justusthomsen/Documents/LinkIT/Challenges/linkit_hand_gesture_recognition/venv/lib/python3.10/site-packages (from -r requirements.txt (line 57)) (0.1.6)\n",
      "Requirement already satisfied: mistune==2.0.4 in /Users/justusthomsen/Documents/LinkIT/Challenges/linkit_hand_gesture_recognition/venv/lib/python3.10/site-packages (from -r requirements.txt (line 58)) (2.0.4)\n",
      "Requirement already satisfied: multidict==6.0.3 in /Users/justusthomsen/Documents/LinkIT/Challenges/linkit_hand_gesture_recognition/venv/lib/python3.10/site-packages (from -r requirements.txt (line 59)) (6.0.3)\n",
      "Requirement already satisfied: nbclassic==0.4.8 in /Users/justusthomsen/Documents/LinkIT/Challenges/linkit_hand_gesture_recognition/venv/lib/python3.10/site-packages (from -r requirements.txt (line 60)) (0.4.8)\n",
      "Requirement already satisfied: nbclient==0.7.2 in /Users/justusthomsen/Documents/LinkIT/Challenges/linkit_hand_gesture_recognition/venv/lib/python3.10/site-packages (from -r requirements.txt (line 61)) (0.7.2)\n",
      "Requirement already satisfied: nbconvert==7.2.6 in /Users/justusthomsen/Documents/LinkIT/Challenges/linkit_hand_gesture_recognition/venv/lib/python3.10/site-packages (from -r requirements.txt (line 62)) (7.2.6)\n",
      "Requirement already satisfied: nbformat==5.7.0 in /Users/justusthomsen/Documents/LinkIT/Challenges/linkit_hand_gesture_recognition/venv/lib/python3.10/site-packages (from -r requirements.txt (line 63)) (5.7.0)\n",
      "Requirement already satisfied: nest-asyncio==1.5.6 in /Users/justusthomsen/Documents/LinkIT/Challenges/linkit_hand_gesture_recognition/venv/lib/python3.10/site-packages (from -r requirements.txt (line 64)) (1.5.6)\n",
      "Requirement already satisfied: notebook==6.5.2 in /Users/justusthomsen/Documents/LinkIT/Challenges/linkit_hand_gesture_recognition/venv/lib/python3.10/site-packages (from -r requirements.txt (line 65)) (6.5.2)\n",
      "Requirement already satisfied: notebook_shim==0.2.2 in /Users/justusthomsen/Documents/LinkIT/Challenges/linkit_hand_gesture_recognition/venv/lib/python3.10/site-packages (from -r requirements.txt (line 66)) (0.2.2)\n",
      "Requirement already satisfied: numpy==1.23.5 in /Users/justusthomsen/Documents/LinkIT/Challenges/linkit_hand_gesture_recognition/venv/lib/python3.10/site-packages (from -r requirements.txt (line 67)) (1.23.5)\n",
      "Requirement already satisfied: oauthlib==3.2.2 in /Users/justusthomsen/Documents/LinkIT/Challenges/linkit_hand_gesture_recognition/venv/lib/python3.10/site-packages (from -r requirements.txt (line 68)) (3.2.2)\n",
      "Requirement already satisfied: opencv-python==4.6.0.66 in /Users/justusthomsen/Documents/LinkIT/Challenges/linkit_hand_gesture_recognition/venv/lib/python3.10/site-packages (from -r requirements.txt (line 69)) (4.6.0.66)\n",
      "Requirement already satisfied: packaging==21.3 in /Users/justusthomsen/Documents/LinkIT/Challenges/linkit_hand_gesture_recognition/venv/lib/python3.10/site-packages (from -r requirements.txt (line 70)) (21.3)\n",
      "Requirement already satisfied: pandas==1.5.2 in /Users/justusthomsen/Documents/LinkIT/Challenges/linkit_hand_gesture_recognition/venv/lib/python3.10/site-packages (from -r requirements.txt (line 71)) (1.5.2)\n",
      "Requirement already satisfied: pandocfilters==1.5.0 in /Users/justusthomsen/Documents/LinkIT/Challenges/linkit_hand_gesture_recognition/venv/lib/python3.10/site-packages (from -r requirements.txt (line 72)) (1.5.0)\n",
      "Requirement already satisfied: parso==0.8.3 in /Users/justusthomsen/Documents/LinkIT/Challenges/linkit_hand_gesture_recognition/venv/lib/python3.10/site-packages (from -r requirements.txt (line 73)) (0.8.3)\n",
      "Requirement already satisfied: pathtools==0.1.2 in /Users/justusthomsen/Documents/LinkIT/Challenges/linkit_hand_gesture_recognition/venv/lib/python3.10/site-packages (from -r requirements.txt (line 74)) (0.1.2)\n",
      "Requirement already satisfied: pexpect==4.8.0 in /Users/justusthomsen/Documents/LinkIT/Challenges/linkit_hand_gesture_recognition/venv/lib/python3.10/site-packages (from -r requirements.txt (line 75)) (4.8.0)\n",
      "Requirement already satisfied: pickleshare==0.7.5 in /Users/justusthomsen/Documents/LinkIT/Challenges/linkit_hand_gesture_recognition/venv/lib/python3.10/site-packages (from -r requirements.txt (line 76)) (0.7.5)\n",
      "Requirement already satisfied: Pillow==9.3.0 in /Users/justusthomsen/Documents/LinkIT/Challenges/linkit_hand_gesture_recognition/venv/lib/python3.10/site-packages (from -r requirements.txt (line 77)) (9.3.0)\n",
      "Requirement already satisfied: pip==22.2.2 in /Users/justusthomsen/Documents/LinkIT/Challenges/linkit_hand_gesture_recognition/venv/lib/python3.10/site-packages (from -r requirements.txt (line 78)) (22.2.2)\n",
      "Requirement already satisfied: platformdirs==2.5.4 in /Users/justusthomsen/Documents/LinkIT/Challenges/linkit_hand_gesture_recognition/venv/lib/python3.10/site-packages (from -r requirements.txt (line 79)) (2.5.4)\n",
      "Requirement already satisfied: prometheus-client==0.15.0 in /Users/justusthomsen/Documents/LinkIT/Challenges/linkit_hand_gesture_recognition/venv/lib/python3.10/site-packages (from -r requirements.txt (line 80)) (0.15.0)\n",
      "Requirement already satisfied: promise==2.3 in /Users/justusthomsen/Documents/LinkIT/Challenges/linkit_hand_gesture_recognition/venv/lib/python3.10/site-packages (from -r requirements.txt (line 81)) (2.3)\n",
      "Requirement already satisfied: prompt-toolkit==3.0.33 in /Users/justusthomsen/Documents/LinkIT/Challenges/linkit_hand_gesture_recognition/venv/lib/python3.10/site-packages (from -r requirements.txt (line 82)) (3.0.33)\n",
      "Requirement already satisfied: protobuf==3.20.1 in /Users/justusthomsen/Documents/LinkIT/Challenges/linkit_hand_gesture_recognition/venv/lib/python3.10/site-packages (from -r requirements.txt (line 83)) (3.20.1)\n",
      "Requirement already satisfied: psutil==5.9.4 in /Users/justusthomsen/Documents/LinkIT/Challenges/linkit_hand_gesture_recognition/venv/lib/python3.10/site-packages (from -r requirements.txt (line 84)) (5.9.4)\n",
      "Requirement already satisfied: ptyprocess==0.7.0 in /Users/justusthomsen/Documents/LinkIT/Challenges/linkit_hand_gesture_recognition/venv/lib/python3.10/site-packages (from -r requirements.txt (line 85)) (0.7.0)\n",
      "Requirement already satisfied: pure-eval==0.2.2 in /Users/justusthomsen/Documents/LinkIT/Challenges/linkit_hand_gesture_recognition/venv/lib/python3.10/site-packages (from -r requirements.txt (line 86)) (0.2.2)\n",
      "Requirement already satisfied: pyasn1==0.4.8 in /Users/justusthomsen/Documents/LinkIT/Challenges/linkit_hand_gesture_recognition/venv/lib/python3.10/site-packages (from -r requirements.txt (line 87)) (0.4.8)\n",
      "Requirement already satisfied: pyasn1-modules==0.2.8 in /Users/justusthomsen/Documents/LinkIT/Challenges/linkit_hand_gesture_recognition/venv/lib/python3.10/site-packages (from -r requirements.txt (line 88)) (0.2.8)\n",
      "Requirement already satisfied: pycparser==2.21 in /Users/justusthomsen/Documents/LinkIT/Challenges/linkit_hand_gesture_recognition/venv/lib/python3.10/site-packages (from -r requirements.txt (line 89)) (2.21)\n",
      "Requirement already satisfied: Pygments==2.13.0 in /Users/justusthomsen/Documents/LinkIT/Challenges/linkit_hand_gesture_recognition/venv/lib/python3.10/site-packages (from -r requirements.txt (line 90)) (2.13.0)\n",
      "Requirement already satisfied: pyparsing==3.0.9 in /Users/justusthomsen/Documents/LinkIT/Challenges/linkit_hand_gesture_recognition/venv/lib/python3.10/site-packages (from -r requirements.txt (line 91)) (3.0.9)\n",
      "Requirement already satisfied: pyrsistent==0.19.2 in /Users/justusthomsen/Documents/LinkIT/Challenges/linkit_hand_gesture_recognition/venv/lib/python3.10/site-packages (from -r requirements.txt (line 92)) (0.19.2)\n",
      "Requirement already satisfied: python-dateutil==2.8.2 in /Users/justusthomsen/Documents/LinkIT/Challenges/linkit_hand_gesture_recognition/venv/lib/python3.10/site-packages (from -r requirements.txt (line 93)) (2.8.2)\n",
      "Requirement already satisfied: pytorch-lightning==1.8.3.post1 in /Users/justusthomsen/Documents/LinkIT/Challenges/linkit_hand_gesture_recognition/venv/lib/python3.10/site-packages (from -r requirements.txt (line 94)) (1.8.3.post1)\n",
      "Requirement already satisfied: pytz==2022.6 in /Users/justusthomsen/Documents/LinkIT/Challenges/linkit_hand_gesture_recognition/venv/lib/python3.10/site-packages (from -r requirements.txt (line 95)) (2022.6)\n",
      "Requirement already satisfied: PyYAML==6.0 in /Users/justusthomsen/Documents/LinkIT/Challenges/linkit_hand_gesture_recognition/venv/lib/python3.10/site-packages (from -r requirements.txt (line 96)) (6.0)\n",
      "Requirement already satisfied: pyzmq==24.0.1 in /Users/justusthomsen/Documents/LinkIT/Challenges/linkit_hand_gesture_recognition/venv/lib/python3.10/site-packages (from -r requirements.txt (line 97)) (24.0.1)\n",
      "Requirement already satisfied: requests==2.28.1 in /Users/justusthomsen/Documents/LinkIT/Challenges/linkit_hand_gesture_recognition/venv/lib/python3.10/site-packages (from -r requirements.txt (line 98)) (2.28.1)\n",
      "Requirement already satisfied: requests-oauthlib==1.3.1 in /Users/justusthomsen/Documents/LinkIT/Challenges/linkit_hand_gesture_recognition/venv/lib/python3.10/site-packages (from -r requirements.txt (line 99)) (1.3.1)\n",
      "Requirement already satisfied: rsa==4.9 in /Users/justusthomsen/Documents/LinkIT/Challenges/linkit_hand_gesture_recognition/venv/lib/python3.10/site-packages (from -r requirements.txt (line 100)) (4.9)\n",
      "Requirement already satisfied: scipy==1.9.3 in /Users/justusthomsen/Documents/LinkIT/Challenges/linkit_hand_gesture_recognition/venv/lib/python3.10/site-packages (from -r requirements.txt (line 101)) (1.9.3)\n",
      "Requirement already satisfied: seaborn==0.12.1 in /Users/justusthomsen/Documents/LinkIT/Challenges/linkit_hand_gesture_recognition/venv/lib/python3.10/site-packages (from -r requirements.txt (line 102)) (0.12.1)\n",
      "Requirement already satisfied: Send2Trash==1.8.0 in /Users/justusthomsen/Documents/LinkIT/Challenges/linkit_hand_gesture_recognition/venv/lib/python3.10/site-packages (from -r requirements.txt (line 103)) (1.8.0)\n",
      "Requirement already satisfied: sentry-sdk==1.11.1 in /Users/justusthomsen/Documents/LinkIT/Challenges/linkit_hand_gesture_recognition/venv/lib/python3.10/site-packages (from -r requirements.txt (line 104)) (1.11.1)\n",
      "Requirement already satisfied: setproctitle==1.3.2 in /Users/justusthomsen/Documents/LinkIT/Challenges/linkit_hand_gesture_recognition/venv/lib/python3.10/site-packages (from -r requirements.txt (line 105)) (1.3.2)\n",
      "Collecting setuptools==65.5.0\n",
      "  Using cached setuptools-65.5.0-py3-none-any.whl (1.2 MB)\n",
      "Requirement already satisfied: shortuuid==1.0.11 in /Users/justusthomsen/Documents/LinkIT/Challenges/linkit_hand_gesture_recognition/venv/lib/python3.10/site-packages (from -r requirements.txt (line 107)) (1.0.11)\n",
      "Requirement already satisfied: six==1.16.0 in /Users/justusthomsen/Documents/LinkIT/Challenges/linkit_hand_gesture_recognition/venv/lib/python3.10/site-packages (from -r requirements.txt (line 108)) (1.16.0)\n",
      "Requirement already satisfied: smmap==5.0.0 in /Users/justusthomsen/Documents/LinkIT/Challenges/linkit_hand_gesture_recognition/venv/lib/python3.10/site-packages (from -r requirements.txt (line 109)) (5.0.0)\n",
      "Requirement already satisfied: sniffio==1.3.0 in /Users/justusthomsen/Documents/LinkIT/Challenges/linkit_hand_gesture_recognition/venv/lib/python3.10/site-packages (from -r requirements.txt (line 110)) (1.3.0)\n",
      "Requirement already satisfied: soupsieve==2.3.2.post1 in /Users/justusthomsen/Documents/LinkIT/Challenges/linkit_hand_gesture_recognition/venv/lib/python3.10/site-packages (from -r requirements.txt (line 111)) (2.3.2.post1)\n",
      "Requirement already satisfied: stack-data==0.6.2 in /Users/justusthomsen/Documents/LinkIT/Challenges/linkit_hand_gesture_recognition/venv/lib/python3.10/site-packages (from -r requirements.txt (line 112)) (0.6.2)\n",
      "Requirement already satisfied: tensorboard==2.11.0 in /Users/justusthomsen/Documents/LinkIT/Challenges/linkit_hand_gesture_recognition/venv/lib/python3.10/site-packages (from -r requirements.txt (line 113)) (2.11.0)\n",
      "Requirement already satisfied: tensorboard-data-server==0.6.1 in /Users/justusthomsen/Documents/LinkIT/Challenges/linkit_hand_gesture_recognition/venv/lib/python3.10/site-packages (from -r requirements.txt (line 114)) (0.6.1)\n",
      "Requirement already satisfied: tensorboard-plugin-wit==1.8.1 in /Users/justusthomsen/Documents/LinkIT/Challenges/linkit_hand_gesture_recognition/venv/lib/python3.10/site-packages (from -r requirements.txt (line 115)) (1.8.1)\n",
      "Requirement already satisfied: tensorboardX==2.5.1 in /Users/justusthomsen/Documents/LinkIT/Challenges/linkit_hand_gesture_recognition/venv/lib/python3.10/site-packages (from -r requirements.txt (line 116)) (2.5.1)\n",
      "Requirement already satisfied: termcolor==2.1.1 in /Users/justusthomsen/Documents/LinkIT/Challenges/linkit_hand_gesture_recognition/venv/lib/python3.10/site-packages (from -r requirements.txt (line 117)) (2.1.1)\n",
      "Requirement already satisfied: terminado==0.17.1 in /Users/justusthomsen/Documents/LinkIT/Challenges/linkit_hand_gesture_recognition/venv/lib/python3.10/site-packages (from -r requirements.txt (line 118)) (0.17.1)\n",
      "Requirement already satisfied: thop==0.1.1.post2209072238 in /Users/justusthomsen/Documents/LinkIT/Challenges/linkit_hand_gesture_recognition/venv/lib/python3.10/site-packages (from -r requirements.txt (line 119)) (0.1.1.post2209072238)\n",
      "Requirement already satisfied: tinycss2==1.2.1 in /Users/justusthomsen/Documents/LinkIT/Challenges/linkit_hand_gesture_recognition/venv/lib/python3.10/site-packages (from -r requirements.txt (line 120)) (1.2.1)\n",
      "Requirement already satisfied: tomli==2.0.1 in /Users/justusthomsen/Documents/LinkIT/Challenges/linkit_hand_gesture_recognition/venv/lib/python3.10/site-packages (from -r requirements.txt (line 121)) (2.0.1)\n",
      "Requirement already satisfied: torch==1.13.0 in /Users/justusthomsen/Documents/LinkIT/Challenges/linkit_hand_gesture_recognition/venv/lib/python3.10/site-packages (from -r requirements.txt (line 122)) (1.13.0)\n",
      "Requirement already satisfied: torchaudio==0.13.0 in /Users/justusthomsen/Documents/LinkIT/Challenges/linkit_hand_gesture_recognition/venv/lib/python3.10/site-packages (from -r requirements.txt (line 123)) (0.13.0)\n",
      "Requirement already satisfied: torchmetrics==0.11.0 in /Users/justusthomsen/Documents/LinkIT/Challenges/linkit_hand_gesture_recognition/venv/lib/python3.10/site-packages (from -r requirements.txt (line 124)) (0.11.0)\n",
      "Requirement already satisfied: torchvision==0.14.0 in /Users/justusthomsen/Documents/LinkIT/Challenges/linkit_hand_gesture_recognition/venv/lib/python3.10/site-packages (from -r requirements.txt (line 125)) (0.14.0)\n",
      "Requirement already satisfied: tornado==6.2 in /Users/justusthomsen/Documents/LinkIT/Challenges/linkit_hand_gesture_recognition/venv/lib/python3.10/site-packages (from -r requirements.txt (line 126)) (6.2)\n",
      "Requirement already satisfied: tqdm==4.64.1 in /Users/justusthomsen/Documents/LinkIT/Challenges/linkit_hand_gesture_recognition/venv/lib/python3.10/site-packages (from -r requirements.txt (line 127)) (4.64.1)\n",
      "Requirement already satisfied: traitlets==5.6.0 in /Users/justusthomsen/Documents/LinkIT/Challenges/linkit_hand_gesture_recognition/venv/lib/python3.10/site-packages (from -r requirements.txt (line 128)) (5.6.0)\n",
      "Requirement already satisfied: typing_extensions==4.4.0 in /Users/justusthomsen/Documents/LinkIT/Challenges/linkit_hand_gesture_recognition/venv/lib/python3.10/site-packages (from -r requirements.txt (line 129)) (4.4.0)\n",
      "Requirement already satisfied: urllib3==1.26.13 in /Users/justusthomsen/Documents/LinkIT/Challenges/linkit_hand_gesture_recognition/venv/lib/python3.10/site-packages (from -r requirements.txt (line 130)) (1.26.13)\n",
      "Requirement already satisfied: wandb==0.13.5 in /Users/justusthomsen/Documents/LinkIT/Challenges/linkit_hand_gesture_recognition/venv/lib/python3.10/site-packages (from -r requirements.txt (line 131)) (0.13.5)\n",
      "Requirement already satisfied: wcwidth==0.2.5 in /Users/justusthomsen/Documents/LinkIT/Challenges/linkit_hand_gesture_recognition/venv/lib/python3.10/site-packages (from -r requirements.txt (line 132)) (0.2.5)\n",
      "Requirement already satisfied: webencodings==0.5.1 in /Users/justusthomsen/Documents/LinkIT/Challenges/linkit_hand_gesture_recognition/venv/lib/python3.10/site-packages (from -r requirements.txt (line 133)) (0.5.1)\n",
      "Requirement already satisfied: websocket-client==1.4.2 in /Users/justusthomsen/Documents/LinkIT/Challenges/linkit_hand_gesture_recognition/venv/lib/python3.10/site-packages (from -r requirements.txt (line 134)) (1.4.2)\n",
      "Requirement already satisfied: Werkzeug==2.2.2 in /Users/justusthomsen/Documents/LinkIT/Challenges/linkit_hand_gesture_recognition/venv/lib/python3.10/site-packages (from -r requirements.txt (line 135)) (2.2.2)\n",
      "Requirement already satisfied: wheel==0.37.1 in /Users/justusthomsen/Documents/LinkIT/Challenges/linkit_hand_gesture_recognition/venv/lib/python3.10/site-packages (from -r requirements.txt (line 136)) (0.37.1)\n",
      "Requirement already satisfied: yarl==1.8.2 in /Users/justusthomsen/Documents/LinkIT/Challenges/linkit_hand_gesture_recognition/venv/lib/python3.10/site-packages (from -r requirements.txt (line 137)) (1.8.2)\n",
      "Installing collected packages: setuptools, GitPython\n",
      "  Attempting uninstall: setuptools\n",
      "    Found existing installation: setuptools 67.8.0\n",
      "    Uninstalling setuptools-67.8.0:\n",
      "      Successfully uninstalled setuptools-67.8.0\n",
      "  Attempting uninstall: GitPython\n",
      "    Found existing installation: GitPython 3.1.31\n",
      "    Uninstalling GitPython-3.1.31:\n",
      "      Successfully uninstalled GitPython-3.1.31\n",
      "Successfully installed GitPython-3.1.29 setuptools-65.5.0\n",
      "\n",
      "\u001b[1m[\u001b[0m\u001b[34;49mnotice\u001b[0m\u001b[1;39;49m]\u001b[0m\u001b[39;49m A new release of pip available: \u001b[0m\u001b[31;49m22.2.2\u001b[0m\u001b[39;49m -> \u001b[0m\u001b[32;49m23.1.2\u001b[0m\n",
      "\u001b[1m[\u001b[0m\u001b[34;49mnotice\u001b[0m\u001b[1;39;49m]\u001b[0m\u001b[39;49m To update, run: \u001b[0m\u001b[32;49mpython3 -m pip install --upgrade pip\u001b[0m\n",
      "Cloning into 'yolov5'...\n",
      "remote: Enumerating objects: 15935, done.\u001b[K\n",
      "remote: Counting objects: 100% (104/104), done.\u001b[K\n",
      "remote: Compressing objects: 100% (46/46), done.\u001b[K\n",
      "remote: Total 15935 (delta 65), reused 87 (delta 58), pack-reused 15831\u001b[K\n",
      "Receiving objects: 100% (15935/15935), 14.53 MiB | 4.99 MiB/s, done.\n",
      "Resolving deltas: 100% (10939/10939), done.\n",
      "Collecting gitpython>=3.1.30\n",
      "  Using cached GitPython-3.1.31-py3-none-any.whl (184 kB)\n",
      "Requirement already satisfied: matplotlib>=3.3 in /Users/justusthomsen/Documents/LinkIT/Challenges/linkit_hand_gesture_recognition/venv/lib/python3.10/site-packages (from -r yolov5/requirements.txt (line 6)) (3.6.2)\n",
      "Requirement already satisfied: numpy>=1.18.5 in /Users/justusthomsen/Documents/LinkIT/Challenges/linkit_hand_gesture_recognition/venv/lib/python3.10/site-packages (from -r yolov5/requirements.txt (line 7)) (1.23.5)\n",
      "Requirement already satisfied: opencv-python>=4.1.1 in /Users/justusthomsen/Documents/LinkIT/Challenges/linkit_hand_gesture_recognition/venv/lib/python3.10/site-packages (from -r yolov5/requirements.txt (line 8)) (4.6.0.66)\n",
      "Requirement already satisfied: Pillow>=7.1.2 in /Users/justusthomsen/Documents/LinkIT/Challenges/linkit_hand_gesture_recognition/venv/lib/python3.10/site-packages (from -r yolov5/requirements.txt (line 9)) (9.3.0)\n",
      "Requirement already satisfied: psutil in /Users/justusthomsen/Documents/LinkIT/Challenges/linkit_hand_gesture_recognition/venv/lib/python3.10/site-packages (from -r yolov5/requirements.txt (line 10)) (5.9.4)\n",
      "Requirement already satisfied: PyYAML>=5.3.1 in /Users/justusthomsen/Documents/LinkIT/Challenges/linkit_hand_gesture_recognition/venv/lib/python3.10/site-packages (from -r yolov5/requirements.txt (line 11)) (6.0)\n",
      "Requirement already satisfied: requests>=2.23.0 in /Users/justusthomsen/Documents/LinkIT/Challenges/linkit_hand_gesture_recognition/venv/lib/python3.10/site-packages (from -r yolov5/requirements.txt (line 12)) (2.28.1)\n",
      "Requirement already satisfied: scipy>=1.4.1 in /Users/justusthomsen/Documents/LinkIT/Challenges/linkit_hand_gesture_recognition/venv/lib/python3.10/site-packages (from -r yolov5/requirements.txt (line 13)) (1.9.3)\n",
      "Requirement already satisfied: thop>=0.1.1 in /Users/justusthomsen/Documents/LinkIT/Challenges/linkit_hand_gesture_recognition/venv/lib/python3.10/site-packages (from -r yolov5/requirements.txt (line 14)) (0.1.1.post2209072238)\n",
      "Requirement already satisfied: torch>=1.7.0 in /Users/justusthomsen/Documents/LinkIT/Challenges/linkit_hand_gesture_recognition/venv/lib/python3.10/site-packages (from -r yolov5/requirements.txt (line 15)) (1.13.0)\n",
      "Requirement already satisfied: torchvision>=0.8.1 in /Users/justusthomsen/Documents/LinkIT/Challenges/linkit_hand_gesture_recognition/venv/lib/python3.10/site-packages (from -r yolov5/requirements.txt (line 16)) (0.14.0)\n",
      "Requirement already satisfied: tqdm>=4.64.0 in /Users/justusthomsen/Documents/LinkIT/Challenges/linkit_hand_gesture_recognition/venv/lib/python3.10/site-packages (from -r yolov5/requirements.txt (line 17)) (4.64.1)\n",
      "Requirement already satisfied: ultralytics>=8.0.111 in /Users/justusthomsen/Documents/LinkIT/Challenges/linkit_hand_gesture_recognition/venv/lib/python3.10/site-packages (from -r yolov5/requirements.txt (line 18)) (8.0.112)\n",
      "Requirement already satisfied: pandas>=1.1.4 in /Users/justusthomsen/Documents/LinkIT/Challenges/linkit_hand_gesture_recognition/venv/lib/python3.10/site-packages (from -r yolov5/requirements.txt (line 27)) (1.5.2)\n",
      "Requirement already satisfied: seaborn>=0.11.0 in /Users/justusthomsen/Documents/LinkIT/Challenges/linkit_hand_gesture_recognition/venv/lib/python3.10/site-packages (from -r yolov5/requirements.txt (line 28)) (0.12.1)\n",
      "Collecting setuptools>=65.5.1\n",
      "  Using cached setuptools-67.8.0-py3-none-any.whl (1.1 MB)\n",
      "Requirement already satisfied: gitdb<5,>=4.0.1 in /Users/justusthomsen/Documents/LinkIT/Challenges/linkit_hand_gesture_recognition/venv/lib/python3.10/site-packages (from gitpython>=3.1.30->-r yolov5/requirements.txt (line 5)) (4.0.10)\n",
      "Requirement already satisfied: kiwisolver>=1.0.1 in /Users/justusthomsen/Documents/LinkIT/Challenges/linkit_hand_gesture_recognition/venv/lib/python3.10/site-packages (from matplotlib>=3.3->-r yolov5/requirements.txt (line 6)) (1.4.4)\n",
      "Requirement already satisfied: packaging>=20.0 in /Users/justusthomsen/Documents/LinkIT/Challenges/linkit_hand_gesture_recognition/venv/lib/python3.10/site-packages (from matplotlib>=3.3->-r yolov5/requirements.txt (line 6)) (21.3)\n",
      "Requirement already satisfied: python-dateutil>=2.7 in /Users/justusthomsen/Documents/LinkIT/Challenges/linkit_hand_gesture_recognition/venv/lib/python3.10/site-packages (from matplotlib>=3.3->-r yolov5/requirements.txt (line 6)) (2.8.2)\n",
      "Requirement already satisfied: fonttools>=4.22.0 in /Users/justusthomsen/Documents/LinkIT/Challenges/linkit_hand_gesture_recognition/venv/lib/python3.10/site-packages (from matplotlib>=3.3->-r yolov5/requirements.txt (line 6)) (4.38.0)\n",
      "Requirement already satisfied: contourpy>=1.0.1 in /Users/justusthomsen/Documents/LinkIT/Challenges/linkit_hand_gesture_recognition/venv/lib/python3.10/site-packages (from matplotlib>=3.3->-r yolov5/requirements.txt (line 6)) (1.0.6)\n",
      "Requirement already satisfied: pyparsing>=2.2.1 in /Users/justusthomsen/Documents/LinkIT/Challenges/linkit_hand_gesture_recognition/venv/lib/python3.10/site-packages (from matplotlib>=3.3->-r yolov5/requirements.txt (line 6)) (3.0.9)\n",
      "Requirement already satisfied: cycler>=0.10 in /Users/justusthomsen/Documents/LinkIT/Challenges/linkit_hand_gesture_recognition/venv/lib/python3.10/site-packages (from matplotlib>=3.3->-r yolov5/requirements.txt (line 6)) (0.11.0)\n",
      "Requirement already satisfied: certifi>=2017.4.17 in /Users/justusthomsen/Documents/LinkIT/Challenges/linkit_hand_gesture_recognition/venv/lib/python3.10/site-packages (from requests>=2.23.0->-r yolov5/requirements.txt (line 12)) (2022.9.24)\n",
      "Requirement already satisfied: urllib3<1.27,>=1.21.1 in /Users/justusthomsen/Documents/LinkIT/Challenges/linkit_hand_gesture_recognition/venv/lib/python3.10/site-packages (from requests>=2.23.0->-r yolov5/requirements.txt (line 12)) (1.26.13)\n",
      "Requirement already satisfied: charset-normalizer<3,>=2 in /Users/justusthomsen/Documents/LinkIT/Challenges/linkit_hand_gesture_recognition/venv/lib/python3.10/site-packages (from requests>=2.23.0->-r yolov5/requirements.txt (line 12)) (2.1.1)\n",
      "Requirement already satisfied: idna<4,>=2.5 in /Users/justusthomsen/Documents/LinkIT/Challenges/linkit_hand_gesture_recognition/venv/lib/python3.10/site-packages (from requests>=2.23.0->-r yolov5/requirements.txt (line 12)) (3.4)\n",
      "Requirement already satisfied: typing-extensions in /Users/justusthomsen/Documents/LinkIT/Challenges/linkit_hand_gesture_recognition/venv/lib/python3.10/site-packages (from torch>=1.7.0->-r yolov5/requirements.txt (line 15)) (4.4.0)\n",
      "Requirement already satisfied: pytz>=2020.1 in /Users/justusthomsen/Documents/LinkIT/Challenges/linkit_hand_gesture_recognition/venv/lib/python3.10/site-packages (from pandas>=1.1.4->-r yolov5/requirements.txt (line 27)) (2022.6)\n",
      "Requirement already satisfied: smmap<6,>=3.0.1 in /Users/justusthomsen/Documents/LinkIT/Challenges/linkit_hand_gesture_recognition/venv/lib/python3.10/site-packages (from gitdb<5,>=4.0.1->gitpython>=3.1.30->-r yolov5/requirements.txt (line 5)) (5.0.0)\n",
      "Requirement already satisfied: six>=1.5 in /Users/justusthomsen/Documents/LinkIT/Challenges/linkit_hand_gesture_recognition/venv/lib/python3.10/site-packages (from python-dateutil>=2.7->matplotlib>=3.3->-r yolov5/requirements.txt (line 6)) (1.16.0)\n",
      "Installing collected packages: setuptools, gitpython\n",
      "  Attempting uninstall: setuptools\n",
      "    Found existing installation: setuptools 65.5.0\n",
      "    Uninstalling setuptools-65.5.0:\n",
      "      Successfully uninstalled setuptools-65.5.0\n",
      "  Attempting uninstall: gitpython\n",
      "    Found existing installation: GitPython 3.1.29\n",
      "    Uninstalling GitPython-3.1.29:\n",
      "      Successfully uninstalled GitPython-3.1.29\n",
      "Successfully installed gitpython-3.1.31 setuptools-67.8.0\n",
      "\n",
      "\u001b[1m[\u001b[0m\u001b[34;49mnotice\u001b[0m\u001b[1;39;49m]\u001b[0m\u001b[39;49m A new release of pip available: \u001b[0m\u001b[31;49m22.2.2\u001b[0m\u001b[39;49m -> \u001b[0m\u001b[32;49m23.1.2\u001b[0m\n",
      "\u001b[1m[\u001b[0m\u001b[34;49mnotice\u001b[0m\u001b[1;39;49m]\u001b[0m\u001b[39;49m To update, run: \u001b[0m\u001b[32;49mpython3 -m pip install --upgrade pip\u001b[0m\n"
     ]
    }
   ],
   "source": [
    "# only run once to setup your environment\n",
    "first_run = True\n",
    "\n",
    "if first_run:\n",
    "    # install reqiurements.txt\n",
    "    !pip3 install -r requirements.txt\n",
    "    # clone the git repo of ultralytics/yolov5\n",
    "    !git clone https://github.com/ultralytics/yolov5.git\n",
    "    # install dependencies for yolo\n",
    "    !pip3 install -r yolov5/requirements.txt\n",
    "    # or from website\n",
    "    #!pip3 install -qr https://raw.githubusercontent.com/ultralytics/yolov5/master/requirements.txt"
   ]
  },
  {
   "attachments": {},
   "cell_type": "markdown",
   "metadata": {
    "pycharm": {
     "name": "#%% md\n"
    }
   },
   "source": [
    "#### 1.1. Import Packages"
   ]
  },
  {
   "cell_type": "code",
   "execution_count": 2,
   "metadata": {
    "pycharm": {
     "name": "#%%\n"
    }
   },
   "outputs": [
    {
     "name": "stderr",
     "output_type": "stream",
     "text": [
      "/Users/justusthomsen/Documents/LinkIT/Challenges/Expert Challenge/linkit_hand_gesture_recognition/venv/lib/python3.10/site-packages/tqdm/auto.py:22: TqdmWarning: IProgress not found. Please update jupyter and ipywidgets. See https://ipywidgets.readthedocs.io/en/stable/user_install.html\n",
      "  from .autonotebook import tqdm as notebook_tqdm\n"
     ]
    }
   ],
   "source": [
    "import pytorch_lightning as pl # PyTorch Lightning for easier training and evaluation of models\n",
    "import torch # PyTorch\n",
    "import cv2  # OpenCV for image processing\n",
    "import matplotlib.pyplot as plt # for plotting\n",
    "import matplotlib.patches as patches  # for plotting bounding boxes\n",
    "%matplotlib inline\n",
    "import uuid   # Unique identifier\n",
    "import os # File system operations\n",
    "import time # Time operations\n"
   ]
  },
  {
   "attachments": {},
   "cell_type": "markdown",
   "metadata": {
    "pycharm": {
     "name": "#%% md\n"
    }
   },
   "source": [
    "## 2. Annotation"
   ]
  },
  {
   "attachments": {},
   "cell_type": "markdown",
   "metadata": {},
   "source": [
    "## 2.1 Capture Images\n",
    "\n",
    "Select the number of how many images you want to take per class and choose the path were these images will be stored"
   ]
  },
  {
   "cell_type": "code",
   "execution_count": 4,
   "metadata": {},
   "outputs": [],
   "source": [
    "labels = ['rock', 'paper', 'scissor']\n",
    "number_imgs = 1\n",
    "IMAGES_PATH = os.path.join('datasets', 'gestures', 'images')\n",
    "LABELS_PATH = os.path.join('datasets', 'gestures', 'labels')"
   ]
  },
  {
   "attachments": {},
   "cell_type": "markdown",
   "metadata": {},
   "source": [
    "Create the directory (works for all operation systems)"
   ]
  },
  {
   "cell_type": "code",
   "execution_count": 18,
   "metadata": {},
   "outputs": [],
   "source": [
    "def create_dir(path):\n",
    "    if not os.path.exists(path):\n",
    "        !mkdir {path}\n"
   ]
  },
  {
   "cell_type": "code",
   "execution_count": 31,
   "metadata": {},
   "outputs": [],
   "source": [
    "for structure in [IMAGES_PATH,LABELS_PATH]:\n",
    "    create_dir(structure)\n",
    "    # create subfolder\n",
    "    for folder in ['test-dev','train','val']:\n",
    "        create_dir(os.path.join(structure, folder))"
   ]
  },
  {
   "attachments": {},
   "cell_type": "markdown",
   "metadata": {},
   "source": [
    "Capture the images! You can adjust the time between the different frames to have more time of switching between your hand gestures."
   ]
  },
  {
   "cell_type": "code",
   "execution_count": 33,
   "metadata": {},
   "outputs": [
    {
     "name": "stdout",
     "output_type": "stream",
     "text": [
      "Collecting images for rock\n",
      "Collecting image 0\n",
      "Collecting images for paper\n",
      "Collecting image 0\n",
      "Collecting images for scissor\n",
      "Collecting image 0\n"
     ]
    }
   ],
   "source": [
    "for label in labels:\n",
    "    cap = cv2.VideoCapture(0)\n",
    "    print('Collecting images for {}'.format(label))\n",
    "    time.sleep(7) #time between gestures\n",
    "    for imgnum in range(number_imgs):\n",
    "        print('Collecting image {}'.format(imgnum))\n",
    "        ret, frame = cap.read()\n",
    "        imgname = os.path.join(IMAGES_PATH,'train',label+'.'+'{}.jpg'.format(str(uuid.uuid1())))\n",
    "        cv2.imwrite(imgname, frame)\n",
    "        cv2.imshow('frame', frame)\n",
    "        time.sleep(2) #time between frames\n",
    "\n",
    "        if cv2.waitKey(1) & 0xFF == ord('q'):\n",
    "            break\n",
    "cap.release()\n",
    "cv2.destroyAllWindows()"
   ]
  },
  {
   "attachments": {},
   "cell_type": "markdown",
   "metadata": {},
   "source": [
    "Go to https://www.makesense.ai and label your data there. First create the label rock, then paper and then scissor to ensure that they are labeled as 0, 1, 2.\n",
    "\n",
    "**Export the labels in yolo format**"
   ]
  },
  {
   "attachments": {},
   "cell_type": "markdown",
   "metadata": {
    "pycharm": {
     "name": "#%% md\n"
    }
   },
   "source": [
    "## 3. Training"
   ]
  },
  {
   "attachments": {},
   "cell_type": "markdown",
   "metadata": {
    "pycharm": {
     "name": "#%% md\n"
    }
   },
   "source": [
    "#### 3.2. Load and Test Pretrained Model\n",
    "In Computer Vision, we usually use pretrained Models, to reduce the number of samples required for training. In this case, we use a pretrained YOLOv5 model, which was trained on the COCO dataset. The COCO dataset contains 80 different classes, which are not relevant for our task. For now, let's just test the model on a random image.\n",
    "\n",
    "#### Tasks:\n",
    "_**Task 3.1:**_ Can you find better models for our task?\n",
    "_**Task 3.2:**_ Can you find better pretrained weights for our task?\n",
    "_Note:_ You can find possible models and weights on:\n",
    "1. huggingface [Model Hub](https://huggingface.co/models?pipeline_tag=object-detection&sort=downloads).\n",
    "2. pytorch [Model Zoo](https://pytorch.org/docs/stable/torchvision/models.html).\n",
    "3. pytorch [Model Hub](https://pytorch.org/hub/).\n"
   ]
  },
  {
   "cell_type": "code",
   "execution_count": 32,
   "metadata": {
    "pycharm": {
     "name": "#%%\n"
    }
   },
   "outputs": [
    {
     "name": "stderr",
     "output_type": "stream",
     "text": [
      "Using cache found in /Users/justusthomsen/.cache/torch/hub/ultralytics_yolov5_master\n",
      "YOLOv5 🚀 2023-6-1 Python-3.10.10 torch-1.13.0 CPU\n",
      "\n",
      "Downloading https://github.com/ultralytics/yolov5/releases/download/v7.0/yolov5s.pt to yolov5s.pt...\n",
      "100%|██████████| 14.1M/14.1M [00:05<00:00, 2.61MB/s]\n",
      "\n",
      "Fusing layers... \n",
      "YOLOv5s summary: 213 layers, 7225885 parameters, 0 gradients\n",
      "Adding AutoShape... \n"
     ]
    }
   ],
   "source": [
    "model = torch.hub.load('ultralytics/yolov5', 'yolov5s', pretrained=True)"
   ]
  },
  {
   "attachments": {},
   "cell_type": "markdown",
   "metadata": {
    "pycharm": {
     "name": "#%% md\n"
    }
   },
   "source": [
    "We Load  an Image and run the model on it. The model returns a list of bounding boxes, with their corresponding class and confidence score."
   ]
  },
  {
   "cell_type": "code",
   "execution_count": 34,
   "metadata": {
    "pycharm": {
     "name": "#%%\n"
    }
   },
   "outputs": [],
   "source": [
    "# Load image\n",
    "img = cv2.imread('datasets/example/zidane.png')"
   ]
  },
  {
   "cell_type": "code",
   "execution_count": 35,
   "metadata": {
    "pycharm": {
     "name": "#%%\n"
    }
   },
   "outputs": [],
   "source": [
    "results = model(img)"
   ]
  },
  {
   "cell_type": "code",
   "execution_count": 36,
   "metadata": {},
   "outputs": [
    {
     "name": "stdout",
     "output_type": "stream",
     "text": [
      "image 1/1: 720x1280 2 persons, 1 tie\n",
      "Speed: 3.1ms pre-process, 61.2ms inference, 1.4ms NMS per image at shape (1, 3, 384, 640)\n"
     ]
    }
   ],
   "source": [
    "print(results)"
   ]
  },
  {
   "cell_type": "code",
   "execution_count": 10,
   "metadata": {
    "pycharm": {
     "name": "#%%\n"
    }
   },
   "outputs": [],
   "source": [
    "# Display image and Convert to RGB, display labels and bounding boxes from the results with cv2\n",
    "fig, ax = plt.subplots()\n",
    "ax.imshow(img[:,:,::-1])\n",
    "\n",
    "# Draw bounding boxes and labels of detections\n",
    "for *rect,  conf, name, cls   in results.pandas().xyxy[0].values:\n",
    "    x1, y1, x2, y2 = rect\n",
    "    rect = patches.Rectangle((x1, y1), x2 - x1, y2 - y1, linewidth=1, edgecolor='r', facecolor='none')\n",
    "    ax.add_patch(rect)\n",
    "    ax.text(x1, y1, f'{cls} {conf:.2f}', fontsize=12, c='white')\n",
    "plt.show()"
   ]
  },
  {
   "attachments": {},
   "cell_type": "markdown",
   "metadata": {
    "pycharm": {
     "name": "#%% md\n"
    }
   },
   "source": [
    "#### 3.3 Adapt the Model for our Task\n",
    "We need to adapt the model for our task. Therefore, we need to remove the last layer of the model, and replace it with a new layer, which only contains 3 classes (one for each hand gesture).\n",
    "Since we use the [yolov5 implementation of ultralytics](https://github.com/ultralytics/yolov5), we can use their provided training script to train our model.\n"
   ]
  },
  {
   "cell_type": "code",
   "execution_count": null,
   "metadata": {
    "pycharm": {
     "name": "#%%\n"
    }
   },
   "outputs": [],
   "source": []
  },
  {
   "attachments": {},
   "cell_type": "markdown",
   "metadata": {
    "pycharm": {
     "name": "#%% md\n"
    }
   },
   "source": [
    "First we define our 3 label names, and the path to the images and labels.\n",
    "\n",
    "This is done in the dataset.yaml file.\n",
    "Here we have to define the 3 classes, and the path to the images and labels.\n",
    "Make sure to use the correct mapping between classID and label\n",
    "1. 0 -> \"rock\"\n",
    "2. 1 -> \"paper\"\n",
    "3. 2 -> \"scissors\""
   ]
  },
  {
   "attachments": {},
   "cell_type": "markdown",
   "metadata": {
    "pycharm": {
     "name": "#%% md\n"
    }
   },
   "source": [
    "Now we train our model.\n",
    "we use the dataset.yml file to define the path to the images and labels, and the number of classes.\n",
    "\n",
    "For different Parameter Configurations refer to:\n",
    "https://github.com/ultralytics/yolov5/wiki/Train-Custom-Data\n",
    "\n",
    "### Monitoring\n",
    "It is important to monitor the training process to ensure that the model is training properly.\n",
    "To do so, we recommend [Weights and Biases](https://wandb.ai/) (or [tensorboard](https://www.tensorflow.org/tensorboard)).\n",
    "Both tools keep track of the training process and automatically log the results.\n",
    "#### Weights and Biases\n",
    "1. Create an account on [Weights and Biases](https://wandb.ai/)\n",
    "2. Install the wandb package `pip install wandb`\n",
    "3. Login to your account `wandb login`\n",
    "4. Run the training script with the `--project` flag `python train.py --project <project_name>`\n",
    "5. Go to your [Weights and Biases](https://wandb.ai/) dashboard to view the results\n",
    "\n",
    "For more information on the YOLOV5 integration with Weights and Biases, refer to [here](https://docs.wandb.ai/guides/integrations/yolov5)\n"
   ]
  },
  {
   "cell_type": "code",
   "execution_count": 33,
   "metadata": {
    "pycharm": {
     "name": "#%%\n"
    }
   },
   "outputs": [
    {
     "name": "stdout",
     "output_type": "stream",
     "text": [
      "\u001b[34m\u001b[1mwandb\u001b[0m: WARNING ⚠️ wandb is deprecated and will be removed in a future release. See supported integrations at https://github.com/ultralytics/yolov5#integrations.\n",
      "\u001b[34m\u001b[1mwandb\u001b[0m: Currently logged in as: \u001b[33mjustus-thomsen\u001b[0m (\u001b[33mlinkit\u001b[0m). Use \u001b[1m`wandb login --relogin`\u001b[0m to force relogin\n",
      "\u001b[34m\u001b[1mtrain: \u001b[0mweights=yolov5s.pt, cfg=, data=../dataset.yaml, hyp=data/hyps/hyp.scratch-low.yaml, epochs=3, batch_size=16, imgsz=640, rect=False, resume=False, nosave=False, noval=False, noautoanchor=False, noplots=False, evolve=None, bucket=, cache=ram, image_weights=False, device=, multi_scale=False, single_cls=False, optimizer=SGD, sync_bn=False, workers=0, project=runs/train, name=exp, exist_ok=False, quad=False, cos_lr=False, label_smoothing=0.0, patience=100, freeze=[0], save_period=1, seed=0, local_rank=-1, entity=None, upload_dataset=False, bbox_interval=-1, artifact_alias=latest\n",
      "\u001b[34m\u001b[1mgithub: \u001b[0mup to date with https://github.com/ultralytics/yolov5 ✅\n",
      "fatal: cannot change to '/Users/justusthomsen/Documents/LinkIT/Challenges/Expert': No such file or directory\n",
      "YOLOv5 🚀 2023-6-1 Python-3.10.10 torch-1.13.0 CPU\n",
      "\n",
      "\u001b[34m\u001b[1mhyperparameters: \u001b[0mlr0=0.01, lrf=0.01, momentum=0.937, weight_decay=0.0005, warmup_epochs=3.0, warmup_momentum=0.8, warmup_bias_lr=0.1, box=0.05, cls=0.5, cls_pw=1.0, obj=1.0, obj_pw=1.0, iou_t=0.2, anchor_t=4.0, fl_gamma=0.0, hsv_h=0.015, hsv_s=0.7, hsv_v=0.4, degrees=0.0, translate=0.1, scale=0.5, shear=0.0, perspective=0.0, flipud=0.0, fliplr=0.5, mosaic=1.0, mixup=0.0, copy_paste=0.0\n",
      "\u001b[34m\u001b[1mClearML: \u001b[0mrun 'pip install clearml' to automatically track, visualize and remotely train YOLOv5 🚀 in ClearML\n",
      "\u001b[34m\u001b[1mComet: \u001b[0mrun 'pip install comet_ml' to automatically track and visualize YOLOv5 🚀 runs in Comet\n",
      "\u001b[34m\u001b[1mTensorBoard: \u001b[0mStart with 'tensorboard --logdir runs/train', view at http://localhost:6006/\n",
      "\u001b[34m\u001b[1mwandb\u001b[0m: wandb version 0.15.3 is available!  To upgrade, please run:\n",
      "\u001b[34m\u001b[1mwandb\u001b[0m:  $ pip install wandb --upgrade\n",
      "\u001b[34m\u001b[1mwandb\u001b[0m: Tracking run with wandb version 0.13.5\n",
      "\u001b[34m\u001b[1mwandb\u001b[0m: Run data is saved locally in \u001b[35m\u001b[1m/Users/justusthomsen/Documents/LinkIT/Challenges/Expert Challenge/linkit_hand_gesture_recognition/yolov5/wandb/run-20230601_234056-2t0oa03p\u001b[0m\n",
      "\u001b[34m\u001b[1mwandb\u001b[0m: Run \u001b[1m`wandb offline`\u001b[0m to turn off syncing.\n",
      "\u001b[34m\u001b[1mwandb\u001b[0m: Syncing run \u001b[33matomic-haze-2\u001b[0m\n",
      "\u001b[34m\u001b[1mwandb\u001b[0m: ⭐️ View project at \u001b[34m\u001b[4mhttps://wandb.ai/linkit/YOLOv5\u001b[0m\n",
      "\u001b[34m\u001b[1mwandb\u001b[0m: 🚀 View run at \u001b[34m\u001b[4mhttps://wandb.ai/linkit/YOLOv5/runs/2t0oa03p\u001b[0m\n",
      "Downloading https://github.com/ultralytics/yolov5/releases/download/v7.0/yolov5s.pt to yolov5s.pt...\n",
      "100%|██████████████████████████████████████| 14.1M/14.1M [00:02<00:00, 5.86MB/s]\n",
      "\n",
      "Overriding model.yaml nc=80 with nc=3\n",
      "\n",
      "                 from  n    params  module                                  arguments                     \n",
      "  0                -1  1      3520  models.common.Conv                      [3, 32, 6, 2, 2]              \n",
      "  1                -1  1     18560  models.common.Conv                      [32, 64, 3, 2]                \n",
      "  2                -1  1     18816  models.common.C3                        [64, 64, 1]                   \n",
      "  3                -1  1     73984  models.common.Conv                      [64, 128, 3, 2]               \n",
      "  4                -1  2    115712  models.common.C3                        [128, 128, 2]                 \n",
      "  5                -1  1    295424  models.common.Conv                      [128, 256, 3, 2]              \n",
      "  6                -1  3    625152  models.common.C3                        [256, 256, 3]                 \n",
      "  7                -1  1   1180672  models.common.Conv                      [256, 512, 3, 2]              \n",
      "  8                -1  1   1182720  models.common.C3                        [512, 512, 1]                 \n",
      "  9                -1  1    656896  models.common.SPPF                      [512, 512, 5]                 \n",
      " 10                -1  1    131584  models.common.Conv                      [512, 256, 1, 1]              \n",
      " 11                -1  1         0  torch.nn.modules.upsampling.Upsample    [None, 2, 'nearest']          \n",
      " 12           [-1, 6]  1         0  models.common.Concat                    [1]                           \n",
      " 13                -1  1    361984  models.common.C3                        [512, 256, 1, False]          \n",
      " 14                -1  1     33024  models.common.Conv                      [256, 128, 1, 1]              \n",
      " 15                -1  1         0  torch.nn.modules.upsampling.Upsample    [None, 2, 'nearest']          \n",
      " 16           [-1, 4]  1         0  models.common.Concat                    [1]                           \n",
      " 17                -1  1     90880  models.common.C3                        [256, 128, 1, False]          \n",
      " 18                -1  1    147712  models.common.Conv                      [128, 128, 3, 2]              \n",
      " 19          [-1, 14]  1         0  models.common.Concat                    [1]                           \n",
      " 20                -1  1    296448  models.common.C3                        [256, 256, 1, False]          \n",
      " 21                -1  1    590336  models.common.Conv                      [256, 256, 3, 2]              \n",
      " 22          [-1, 10]  1         0  models.common.Concat                    [1]                           \n",
      " 23                -1  1   1182720  models.common.C3                        [512, 512, 1, False]          \n",
      " 24      [17, 20, 23]  1     21576  models.yolo.Detect                      [3, [[10, 13, 16, 30, 33, 23], [30, 61, 62, 45, 59, 119], [116, 90, 156, 198, 373, 326]], [128, 256, 512]]\n",
      "Model summary: 214 layers, 7027720 parameters, 7027720 gradients, 16.0 GFLOPs\n",
      "\n",
      "Transferred 343/349 items from yolov5s.pt\n",
      "\u001b[34m\u001b[1moptimizer:\u001b[0m SGD(lr=0.01) with parameter groups 57 weight(decay=0.0), 60 weight(decay=0.0005), 60 bias\n",
      "\u001b[34m\u001b[1mtrain: \u001b[0mScanning /Users/justusthomsen/Documents/LinkIT/Challenges/Expert Challeng\u001b[0m\u001b[34m\u001b[1mwandb\u001b[0m: WARNING ⚠️ wandb is deprecated and will be removed in a future release. See supported integrations at https://github.com/ultralytics/yolov5#integrations.\n",
      "\u001b[34m\u001b[1mwandb\u001b[0m: WARNING ⚠️ wandb is deprecated and will be removed in a future release. See supported integrations at https://github.com/ultralytics/yolov5#integrations.\n",
      "\u001b[34m\u001b[1mwandb\u001b[0m: WARNING ⚠️ wandb is deprecated and will be removed in a future release. See supported integrations at https://github.com/ultralytics/yolov5#integrations.\n",
      "\u001b[34m\u001b[1mwandb\u001b[0m: WARNING ⚠️ wandb is deprecated and will be removed in a future release. See supported integrations at https://github.com/ultralytics/yolov5#integrations.\n",
      "\u001b[34m\u001b[1mwandb\u001b[0m: WARNING ⚠️ wandb is deprecated and will be removed in a future release. See supported integrations at https://github.com/ultralytics/yolov5#integrations.\n",
      "\u001b[34m\u001b[1mwandb\u001b[0m: WARNING ⚠️ wandb is deprecated and will be removed in a future release. See supported integrations at https://github.com/ultralytics/yolov5#integrations.\n",
      "\u001b[34m\u001b[1mwandb\u001b[0m: WARNING ⚠️ wandb is deprecated and will be removed in a future release. See supported integrations at https://github.com/ultralytics/yolov5#integrations.\n",
      "\u001b[34m\u001b[1mwandb\u001b[0m: WARNING ⚠️ wandb is deprecated and will be removed in a future release. See supported integrations at https://github.com/ultralytics/yolov5#integrations.\n",
      "\u001b[34m\u001b[1mwandb\u001b[0m: Currently logged in as: \u001b[33mjustus-thomsen\u001b[0m (\u001b[33mlinkit\u001b[0m). Use \u001b[1m`wandb login --relogin`\u001b[0m to force relogin\n",
      "\u001b[34m\u001b[1mwandb\u001b[0m: Currently logged in as: \u001b[33mjustus-thomsen\u001b[0m (\u001b[33mlinkit\u001b[0m). Use \u001b[1m`wandb login --relogin`\u001b[0m to force relogin\n",
      "\u001b[34m\u001b[1mwandb\u001b[0m: Currently logged in as: \u001b[33mjustus-thomsen\u001b[0m (\u001b[33mlinkit\u001b[0m). Use \u001b[1m`wandb login --relogin`\u001b[0m to force relogin\n",
      "\u001b[34m\u001b[1mwandb\u001b[0m: Currently logged in as: \u001b[33mjustus-thomsen\u001b[0m (\u001b[33mlinkit\u001b[0m). Use \u001b[1m`wandb login --relogin`\u001b[0m to force relogin\n",
      "\u001b[34m\u001b[1mwandb\u001b[0m: Currently logged in as: \u001b[33mjustus-thomsen\u001b[0m (\u001b[33mlinkit\u001b[0m). Use \u001b[1m`wandb login --relogin`\u001b[0m to force relogin\n",
      "\u001b[34m\u001b[1mwandb\u001b[0m: Currently logged in as: \u001b[33mjustus-thomsen\u001b[0m (\u001b[33mlinkit\u001b[0m). Use \u001b[1m`wandb login --relogin`\u001b[0m to force relogin\n",
      "\u001b[34m\u001b[1mwandb\u001b[0m: Currently logged in as: \u001b[33mjustus-thomsen\u001b[0m (\u001b[33mlinkit\u001b[0m). Use \u001b[1m`wandb login --relogin`\u001b[0m to force relogin\n",
      "\u001b[34m\u001b[1mwandb\u001b[0m: Currently logged in as: \u001b[33mjustus-thomsen\u001b[0m (\u001b[33mlinkit\u001b[0m). Use \u001b[1m`wandb login --relogin`\u001b[0m to force relogin\n",
      "\u001b[34m\u001b[1mtrain: \u001b[0mScanning /Users/justusthomsen/Documents/LinkIT/Challenges/Expert Challeng\u001b[0m\n",
      "\u001b[34m\u001b[1mtrain: \u001b[0mNew cache created: /Users/justusthomsen/Documents/LinkIT/Challenges/Expert Challenge/linkit_hand_gesture_recognition/datasets/gestures/labels/train.cache\n",
      "\u001b[34m\u001b[1mtrain: \u001b[0mCaching images (0.0GB ram): 100%|██████████| 23/23 [00:00<00:00, 428.62it\u001b[0m\n",
      "\u001b[34m\u001b[1mval: \u001b[0mScanning /Users/justusthomsen/Documents/LinkIT/Challenges/Expert Challenge/\u001b[0m\u001b[34m\u001b[1mwandb\u001b[0m: WARNING ⚠️ wandb is deprecated and will be removed in a future release. See supported integrations at https://github.com/ultralytics/yolov5#integrations.\n",
      "\u001b[34m\u001b[1mwandb\u001b[0m: WARNING ⚠️ wandb is deprecated and will be removed in a future release. See supported integrations at https://github.com/ultralytics/yolov5#integrations.\n",
      "\u001b[34m\u001b[1mwandb\u001b[0m: WARNING ⚠️ wandb is deprecated and will be removed in a future release. See supported integrations at https://github.com/ultralytics/yolov5#integrations.\n",
      "\u001b[34m\u001b[1mwandb\u001b[0m: WARNING ⚠️ wandb is deprecated and will be removed in a future release. See supported integrations at https://github.com/ultralytics/yolov5#integrations.\n",
      "\u001b[34m\u001b[1mwandb\u001b[0m: WARNING ⚠️ wandb is deprecated and will be removed in a future release. See supported integrations at https://github.com/ultralytics/yolov5#integrations.\n",
      "\u001b[34m\u001b[1mwandb\u001b[0m: WARNING ⚠️ wandb is deprecated and will be removed in a future release. See supported integrations at https://github.com/ultralytics/yolov5#integrations.\n",
      "\u001b[34m\u001b[1mwandb\u001b[0m: WARNING ⚠️ wandb is deprecated and will be removed in a future release. See supported integrations at https://github.com/ultralytics/yolov5#integrations.\n",
      "\u001b[34m\u001b[1mwandb\u001b[0m: WARNING ⚠️ wandb is deprecated and will be removed in a future release. See supported integrations at https://github.com/ultralytics/yolov5#integrations.\n",
      "\u001b[34m\u001b[1mwandb\u001b[0m: Currently logged in as: \u001b[33mjustus-thomsen\u001b[0m (\u001b[33mlinkit\u001b[0m). Use \u001b[1m`wandb login --relogin`\u001b[0m to force relogin\n",
      "\u001b[34m\u001b[1mval: \u001b[0mScanning /Users/justusthomsen/Documents/LinkIT/Challenges/Expert Challenge/\u001b[0m\n",
      "\u001b[34m\u001b[1mval: \u001b[0mNew cache created: /Users/justusthomsen/Documents/LinkIT/Challenges/Expert Challenge/linkit_hand_gesture_recognition/datasets/gestures/labels/val.cache\n",
      "\u001b[34m\u001b[1mval: \u001b[0mCaching images (0.0GB ram): 100%|██████████| 6/6 [00:00<00:00, 286.38it/s]\u001b[0m\n",
      "\n",
      "\u001b[34m\u001b[1mAutoAnchor: \u001b[0m5.26 anchors/target, 1.000 Best Possible Recall (BPR). Current anchors are a good fit to dataset ✅\n",
      "Plotting labels to runs/train/exp/labels.jpg... \n",
      "Image sizes 640 train, 640 val\n",
      "Using 0 dataloader workers\n",
      "Logging results to \u001b[1mruns/train/exp\u001b[0m\n",
      "Starting training for 3 epochs...\n",
      "\n",
      "      Epoch    GPU_mem   box_loss   obj_loss   cls_loss  Instances       Size\n",
      "        0/2         0G     0.1156    0.03069    0.04031         14        640: 1\n",
      "                 Class     Images  Instances          P          R      mAP50   \n",
      "                   all          6          6    0.00101      0.333    0.00173   0.000358\n",
      "Saving model artifact on epoch 1\n",
      "\n",
      "      Epoch    GPU_mem   box_loss   obj_loss   cls_loss  Instances       Size\n",
      "        1/2         0G     0.1159    0.03074     0.0432         15        640: 1\n",
      "                 Class     Images  Instances          P          R      mAP50   \n",
      "                   all          6          6     0.0015        0.5    0.00336    0.00057\n",
      "Saving model artifact on epoch 2\n",
      "\n",
      "      Epoch    GPU_mem   box_loss   obj_loss   cls_loss  Instances       Size\n",
      "        2/2         0G     0.1169     0.0332    0.04307         16        640: 1\n",
      "                 Class     Images  Instances          P          R      mAP50   \n",
      "                   all          6          6    0.00151        0.5      0.003   0.000603\n",
      "\n",
      "3 epochs completed in 0.010 hours.\n",
      "Optimizer stripped from runs/train/exp/weights/last.pt, 14.3MB\n",
      "Optimizer stripped from runs/train/exp/weights/best.pt, 14.3MB\n",
      "\n",
      "Validating runs/train/exp/weights/best.pt...\n",
      "Fusing layers... \n",
      "Model summary: 157 layers, 7018216 parameters, 0 gradients, 15.8 GFLOPs\n",
      "                 Class     Images  Instances          P          R      mAP50   \n",
      "                   all          6          6    0.00151        0.5    0.00337   0.000571\n",
      "                  rock          6          2    0.00153        0.5    0.00245    0.00049\n",
      "                 paper          6          2          0          0          0          0\n",
      "               scissor          6          2    0.00299          1    0.00765    0.00122\n",
      "Results saved to \u001b[1mruns/train/exp\u001b[0m\n",
      "\u001b[34m\u001b[1mwandb\u001b[0m: Waiting for W&B process to finish... \u001b[32m(success).\u001b[0m\n",
      "\u001b[34m\u001b[1mwandb\u001b[0m: \n",
      "\u001b[34m\u001b[1mwandb\u001b[0m: Run history:\n",
      "\u001b[34m\u001b[1mwandb\u001b[0m:      metrics/mAP_0.5 ▁█▆█\n",
      "\u001b[34m\u001b[1mwandb\u001b[0m: metrics/mAP_0.5:0.95 ▁▇█▇\n",
      "\u001b[34m\u001b[1mwandb\u001b[0m:    metrics/precision ▁███\n",
      "\u001b[34m\u001b[1mwandb\u001b[0m:       metrics/recall ▁███\n",
      "\u001b[34m\u001b[1mwandb\u001b[0m:       train/box_loss ▁▃█\n",
      "\u001b[34m\u001b[1mwandb\u001b[0m:       train/cls_loss ▁██\n",
      "\u001b[34m\u001b[1mwandb\u001b[0m:       train/obj_loss ▁▁█\n",
      "\u001b[34m\u001b[1mwandb\u001b[0m:         val/box_loss █▄▁▅\n",
      "\u001b[34m\u001b[1mwandb\u001b[0m:         val/cls_loss █▄▁▄\n",
      "\u001b[34m\u001b[1mwandb\u001b[0m:         val/obj_loss █▅▁▄\n",
      "\u001b[34m\u001b[1mwandb\u001b[0m:                x/lr0 █▅▁\n",
      "\u001b[34m\u001b[1mwandb\u001b[0m:                x/lr1 ▁█▆\n",
      "\u001b[34m\u001b[1mwandb\u001b[0m:                x/lr2 ▁█▆\n",
      "\u001b[34m\u001b[1mwandb\u001b[0m: \n",
      "\u001b[34m\u001b[1mwandb\u001b[0m: Run summary:\n",
      "\u001b[34m\u001b[1mwandb\u001b[0m:           best/epoch 1\n",
      "\u001b[34m\u001b[1mwandb\u001b[0m:         best/mAP_0.5 0.00336\n",
      "\u001b[34m\u001b[1mwandb\u001b[0m:    best/mAP_0.5:0.95 0.00057\n",
      "\u001b[34m\u001b[1mwandb\u001b[0m:       best/precision 0.0015\n",
      "\u001b[34m\u001b[1mwandb\u001b[0m:          best/recall 0.5\n",
      "\u001b[34m\u001b[1mwandb\u001b[0m:      metrics/mAP_0.5 0.00337\n",
      "\u001b[34m\u001b[1mwandb\u001b[0m: metrics/mAP_0.5:0.95 0.00057\n",
      "\u001b[34m\u001b[1mwandb\u001b[0m:    metrics/precision 0.00151\n",
      "\u001b[34m\u001b[1mwandb\u001b[0m:       metrics/recall 0.5\n",
      "\u001b[34m\u001b[1mwandb\u001b[0m:       train/box_loss 0.11687\n",
      "\u001b[34m\u001b[1mwandb\u001b[0m:       train/cls_loss 0.04307\n",
      "\u001b[34m\u001b[1mwandb\u001b[0m:       train/obj_loss 0.0332\n",
      "\u001b[34m\u001b[1mwandb\u001b[0m:         val/box_loss 0.11771\n",
      "\u001b[34m\u001b[1mwandb\u001b[0m:         val/cls_loss 0.04681\n",
      "\u001b[34m\u001b[1mwandb\u001b[0m:         val/obj_loss 0.02695\n",
      "\u001b[34m\u001b[1mwandb\u001b[0m:                x/lr0 0.09517\n",
      "\u001b[34m\u001b[1mwandb\u001b[0m:                x/lr1 0.00017\n",
      "\u001b[34m\u001b[1mwandb\u001b[0m:                x/lr2 0.00017\n",
      "\u001b[34m\u001b[1mwandb\u001b[0m: \n",
      "\u001b[34m\u001b[1mwandb\u001b[0m: Synced \u001b[33matomic-haze-2\u001b[0m: \u001b[34m\u001b[4mhttps://wandb.ai/linkit/YOLOv5/runs/2t0oa03p\u001b[0m\n",
      "\u001b[34m\u001b[1mwandb\u001b[0m: Synced 5 W&B file(s), 10 media file(s), 3 artifact file(s) and 0 other file(s)\n",
      "\u001b[34m\u001b[1mwandb\u001b[0m: Find logs at: \u001b[35m\u001b[1m./wandb/run-20230601_234056-2t0oa03p/logs\u001b[0m\n",
      "\u001b[34m\u001b[1mwandb\u001b[0m: WARNING ⚠️ wandb is deprecated and will be removed in a future release. See supported integrations at https://github.com/ultralytics/yolov5#integrations.\n"
     ]
    }
   ],
   "source": [
    "# Train YOLOv5s on COCO128 for 3 epochs\n",
    "!cd yolov5 && python train.py --img 640 --batch 16 --epochs 3 --data ../dataset.yaml --weights yolov5s.pt --cache --workers 0 --save-period 1"
   ]
  },
  {
   "cell_type": "code",
   "execution_count": 45,
   "metadata": {},
   "outputs": [
    {
     "name": "stdout",
     "output_type": "stream",
     "text": [
      "\u001b[34m\u001b[1mdetect: \u001b[0mweights=['runs/train/exp/weights/last.pt'], source=../datasets/gestures/images/val, data=data/coco128.yaml, imgsz=[640, 640], conf_thres=0.01, iou_thres=0.45, max_det=1000, device=, view_img=False, save_txt=False, save_conf=False, save_crop=False, nosave=False, classes=None, agnostic_nms=False, augment=False, visualize=False, update=False, project=runs/detect, name=exp, exist_ok=False, line_thickness=3, hide_labels=False, hide_conf=False, half=False, dnn=False, vid_stride=1\n",
      "fatal: cannot change to '/Users/justusthomsen/Documents/LinkIT/Challenges/Expert': No such file or directory\n",
      "YOLOv5 🚀 2023-6-1 Python-3.10.10 torch-1.13.0 CPU\n",
      "\n",
      "Fusing layers... \n",
      "Model summary: 157 layers, 7018216 parameters, 0 gradients, 15.8 GFLOPs\n",
      "image 1/6 /Users/justusthomsen/Documents/LinkIT/Challenges/Expert Challenge/linkit_hand_gesture_recognition/datasets/gestures/images/val/paper.c9547264-fe04-11ed-a540-161b77bd6551.jpg: 384x640 10 rocks, 10 papers, 1 scissor, 45.6ms\n",
      "image 2/6 /Users/justusthomsen/Documents/LinkIT/Challenges/Expert Challenge/linkit_hand_gesture_recognition/datasets/gestures/images/val/paper.ca8f1f30-fe04-11ed-a540-161b77bd6551.jpg: 384x640 10 rocks, 14 papers, 5 scissors, 46.3ms\n",
      "image 3/6 /Users/justusthomsen/Documents/LinkIT/Challenges/Expert Challenge/linkit_hand_gesture_recognition/datasets/gestures/images/val/rock.b1154444-fe04-11ed-a540-161b77bd6551.jpg: 384x640 17 rocks, 11 papers, 4 scissors, 43.9ms\n",
      "image 4/6 /Users/justusthomsen/Documents/LinkIT/Challenges/Expert Challenge/linkit_hand_gesture_recognition/datasets/gestures/images/val/rock.bf6d426c-fe04-11ed-a540-161b77bd6551.jpg: 384x640 19 rocks, 10 papers, 7 scissors, 46.6ms\n",
      "image 5/6 /Users/justusthomsen/Documents/LinkIT/Challenges/Expert Challenge/linkit_hand_gesture_recognition/datasets/gestures/images/val/scissor.da06aa0a-fe04-11ed-a540-161b77bd6551.jpg: 384x640 13 rocks, 10 papers, 1 scissor, 46.4ms\n",
      "image 6/6 /Users/justusthomsen/Documents/LinkIT/Challenges/Expert Challenge/linkit_hand_gesture_recognition/datasets/gestures/images/val/scissor.db4329ca-fe04-11ed-a540-161b77bd6551.jpg: 384x640 7 rocks, 13 papers, 6 scissors, 47.9ms\n",
      "Speed: 0.4ms pre-process, 46.1ms inference, 0.4ms NMS per image at shape (1, 3, 640, 640)\n",
      "Results saved to \u001b[1mruns/detect/exp8\u001b[0m\n"
     ]
    }
   ],
   "source": [
    "!cd yolov5 && python3 detect.py --weights runs/train/exp/weights/last.pt --img 640 --conf 0.01 --source ../datasets/gestures/images/val"
   ]
  },
  {
   "attachments": {},
   "cell_type": "markdown",
   "metadata": {
    "pycharm": {
     "name": "#%% md\n"
    }
   },
   "source": [
    "## 4. Inference\n",
    "Now that we have trained our model, we can use it to detect hand gestures in images.\n",
    "We can use the `detect.py` script to detect hand gestures in images.\n",
    "\n",
    "1. The `--source 0` argument specifies that we want to use the webcam as input.\n",
    "2. The `--weights path.pt` argument specifies the path to the weights of the model.\n",
    "3. The `--conf 0.X` argument specifies the confidence threshold.\n",
    "\n",
    "The confidence threshold determines the minimum confidence score for a bounding box to be considered as a detection. If the confidence score is below the threshold, the bounding box will be ignored. This is useful to filter out false positives."
   ]
  },
  {
   "cell_type": "code",
   "execution_count": 40,
   "metadata": {
    "pycharm": {
     "name": "#%%\n"
    }
   },
   "outputs": [
    {
     "name": "stdout",
     "output_type": "stream",
     "text": [
      "\u001b[34m\u001b[1mdetect: \u001b[0mweights=['../yolov5s.pt'], source=0, data=data/coco128.yaml, imgsz=[640, 640], conf_thres=0.4, iou_thres=0.45, max_det=1000, device=, view_img=False, save_txt=False, save_conf=False, save_crop=False, nosave=False, classes=None, agnostic_nms=False, augment=False, visualize=False, update=False, project=runs/detect, name=exp, exist_ok=False, line_thickness=3, hide_labels=False, hide_conf=False, half=False, dnn=False, vid_stride=1\n",
      "fatal: cannot change to '/Users/justusthomsen/Documents/LinkIT/Challenges/Expert': No such file or directory\n",
      "YOLOv5 🚀 2023-6-1 Python-3.10.10 torch-1.13.0 CPU\n",
      "\n",
      "Fusing layers... \n",
      "YOLOv5s summary: 213 layers, 7225885 parameters, 0 gradients\n",
      "1/1: 0...  Success (inf frames 1920x1080 at 30.00 FPS)\n",
      "\n",
      "0: 384x640 (no detections), 53.1ms\n",
      "0: 384x640 (no detections), 50.0ms\n",
      "0: 384x640 (no detections), 49.4ms\n",
      "0: 384x640 (no detections), 49.6ms\n",
      "0: 384x640 (no detections), 48.3ms\n",
      "0: 384x640 (no detections), 51.1ms\n",
      "0: 384x640 (no detections), 50.3ms\n",
      "0: 384x640 (no detections), 50.9ms\n",
      "0: 384x640 (no detections), 49.3ms\n",
      "0: 384x640 (no detections), 48.9ms\n",
      "0: 384x640 (no detections), 50.8ms\n",
      "0: 384x640 (no detections), 48.4ms\n",
      "0: 384x640 (no detections), 47.6ms\n",
      "0: 384x640 (no detections), 45.6ms\n",
      "0: 384x640 (no detections), 47.7ms\n",
      "0: 384x640 (no detections), 47.8ms\n",
      "0: 384x640 (no detections), 47.5ms\n",
      "0: 384x640 (no detections), 51.9ms\n",
      "0: 384x640 (no detections), 47.7ms\n",
      "0: 384x640 (no detections), 49.4ms\n",
      "0: 384x640 (no detections), 47.5ms\n",
      "0: 384x640 (no detections), 49.1ms\n",
      "0: 384x640 (no detections), 48.6ms\n",
      "0: 384x640 (no detections), 47.9ms\n",
      "0: 384x640 (no detections), 48.0ms\n",
      "0: 384x640 (no detections), 45.0ms\n",
      "0: 384x640 (no detections), 48.8ms\n",
      "0: 384x640 (no detections), 48.2ms\n",
      "0: 384x640 (no detections), 47.9ms\n",
      "0: 384x640 (no detections), 46.4ms\n",
      "0: 384x640 (no detections), 48.1ms\n",
      "0: 384x640 (no detections), 47.2ms\n",
      "0: 384x640 (no detections), 49.0ms\n",
      "0: 384x640 (no detections), 46.2ms\n",
      "0: 384x640 (no detections), 47.6ms\n",
      "0: 384x640 (no detections), 49.0ms\n",
      "0: 384x640 (no detections), 47.8ms\n",
      "0: 384x640 (no detections), 47.2ms\n",
      "0: 384x640 (no detections), 47.4ms\n",
      "0: 384x640 (no detections), 48.3ms\n",
      "0: 384x640 (no detections), 47.6ms\n",
      "0: 384x640 (no detections), 50.7ms\n",
      "0: 384x640 (no detections), 49.3ms\n",
      "0: 384x640 (no detections), 47.6ms\n",
      "0: 384x640 (no detections), 48.6ms\n",
      "0: 384x640 (no detections), 47.3ms\n",
      "0: 384x640 (no detections), 47.1ms\n",
      "0: 384x640 (no detections), 50.0ms\n",
      "0: 384x640 (no detections), 49.6ms\n",
      "0: 384x640 (no detections), 48.5ms\n",
      "0: 384x640 1 person, 51.6ms\n",
      "0: 384x640 1 person, 49.8ms\n",
      "0: 384x640 1 person, 50.6ms\n",
      "0: 384x640 1 person, 49.7ms\n",
      "0: 384x640 1 person, 48.2ms\n",
      "0: 384x640 1 person, 50.3ms\n",
      "0: 384x640 1 person, 49.1ms\n",
      "0: 384x640 1 person, 48.3ms\n",
      "0: 384x640 1 person, 49.1ms\n",
      "0: 384x640 1 person, 49.9ms\n",
      "0: 384x640 1 person, 57.9ms\n",
      "0: 384x640 1 person, 54.3ms\n",
      "0: 384x640 1 person, 53.0ms\n",
      "0: 384x640 1 person, 53.9ms\n",
      "0: 384x640 1 person, 58.7ms\n",
      "0: 384x640 1 person, 54.7ms\n",
      "0: 384x640 1 person, 51.2ms\n",
      "0: 384x640 1 person, 56.3ms\n",
      "0: 384x640 1 person, 50.3ms\n",
      "0: 384x640 1 person, 48.1ms\n",
      "0: 384x640 1 person, 51.3ms\n",
      "0: 384x640 1 person, 48.0ms\n",
      "0: 384x640 1 person, 52.9ms\n",
      "0: 384x640 1 person, 51.4ms\n",
      "0: 384x640 1 person, 49.2ms\n",
      "0: 384x640 1 person, 48.3ms\n",
      "0: 384x640 1 person, 47.9ms\n",
      "0: 384x640 1 person, 50.2ms\n",
      "0: 384x640 1 person, 46.2ms\n",
      "0: 384x640 1 person, 47.7ms\n",
      "0: 384x640 1 person, 49.3ms\n",
      "0: 384x640 1 person, 49.2ms\n",
      "0: 384x640 1 person, 46.3ms\n",
      "0: 384x640 1 person, 49.1ms\n",
      "0: 384x640 1 person, 47.8ms\n",
      "0: 384x640 1 person, 51.0ms\n",
      "0: 384x640 1 person, 51.5ms\n",
      "0: 384x640 1 person, 51.5ms\n",
      "0: 384x640 1 person, 47.8ms\n",
      "0: 384x640 1 person, 49.3ms\n",
      "0: 384x640 1 person, 48.4ms\n",
      "0: 384x640 1 person, 48.2ms\n",
      "0: 384x640 1 person, 48.0ms\n",
      "0: 384x640 1 person, 47.5ms\n",
      "0: 384x640 1 person, 50.7ms\n",
      "0: 384x640 1 person, 50.8ms\n",
      "0: 384x640 1 person, 47.9ms\n",
      "0: 384x640 1 person, 48.4ms\n",
      "0: 384x640 1 person, 49.5ms\n",
      "0: 384x640 1 person, 48.8ms\n",
      "0: 384x640 1 person, 48.4ms\n",
      "0: 384x640 1 person, 49.7ms\n",
      "0: 384x640 1 person, 50.3ms\n",
      "0: 384x640 1 person, 48.4ms\n",
      "0: 384x640 2 persons, 48.4ms\n",
      "0: 384x640 2 persons, 49.2ms\n",
      "0: 384x640 2 persons, 53.8ms\n",
      "0: 384x640 2 persons, 50.4ms\n",
      "0: 384x640 1 person, 47.7ms\n",
      "0: 384x640 1 person, 48.6ms\n",
      "0: 384x640 1 person, 48.8ms\n",
      "0: 384x640 1 person, 49.7ms\n",
      "0: 384x640 1 person, 49.0ms\n",
      "0: 384x640 1 person, 51.6ms\n",
      "0: 384x640 1 person, 49.3ms\n",
      "0: 384x640 1 person, 50.1ms\n",
      "0: 384x640 1 person, 50.8ms\n",
      "0: 384x640 1 person, 49.5ms\n",
      "0: 384x640 1 person, 47.3ms\n",
      "0: 384x640 1 person, 49.8ms\n",
      "0: 384x640 1 person, 48.7ms\n",
      "0: 384x640 1 person, 49.0ms\n",
      "0: 384x640 1 person, 49.7ms\n",
      "0: 384x640 1 person, 49.8ms\n",
      "0: 384x640 1 person, 51.8ms\n",
      "0: 384x640 1 person, 53.8ms\n",
      "0: 384x640 1 person, 49.2ms\n",
      "0: 384x640 1 person, 49.3ms\n",
      "0: 384x640 1 person, 48.7ms\n",
      "0: 384x640 1 person, 49.3ms\n",
      "0: 384x640 1 person, 49.8ms\n",
      "0: 384x640 1 person, 50.1ms\n",
      "0: 384x640 1 person, 50.0ms\n",
      "0: 384x640 1 person, 49.8ms\n",
      "0: 384x640 1 person, 48.2ms\n",
      "0: 384x640 1 person, 49.0ms\n",
      "0: 384x640 1 person, 49.2ms\n",
      "0: 384x640 1 person, 46.7ms\n",
      "0: 384x640 1 person, 52.8ms\n",
      "0: 384x640 1 person, 48.4ms\n",
      "0: 384x640 1 person, 52.2ms\n",
      "0: 384x640 1 person, 48.0ms\n",
      "0: 384x640 1 person, 47.4ms\n",
      "0: 384x640 1 person, 48.7ms\n",
      "0: 384x640 1 person, 49.4ms\n",
      "0: 384x640 1 person, 50.0ms\n",
      "0: 384x640 1 person, 50.8ms\n",
      "0: 384x640 1 person, 47.6ms\n",
      "0: 384x640 1 person, 48.5ms\n",
      "0: 384x640 1 person, 50.3ms\n",
      "0: 384x640 1 person, 50.6ms\n",
      "0: 384x640 1 person, 49.2ms\n",
      "0: 384x640 1 person, 50.6ms\n",
      "0: 384x640 1 person, 50.0ms\n",
      "0: 384x640 1 person, 50.1ms\n",
      "0: 384x640 1 person, 46.4ms\n",
      "0: 384x640 1 person, 50.3ms\n",
      "0: 384x640 1 person, 46.8ms\n",
      "0: 384x640 1 person, 48.4ms\n",
      "0: 384x640 1 person, 49.3ms\n",
      "0: 384x640 (no detections), 54.0ms\n",
      "0: 384x640 (no detections), 51.1ms\n",
      "0: 384x640 (no detections), 48.6ms\n",
      "0: 384x640 (no detections), 51.1ms\n",
      "0: 384x640 (no detections), 50.1ms\n",
      "0: 384x640 (no detections), 51.8ms\n",
      "0: 384x640 (no detections), 49.0ms\n",
      "0: 384x640 (no detections), 50.6ms\n",
      "0: 384x640 (no detections), 48.9ms\n",
      "0: 384x640 (no detections), 47.8ms\n",
      "0: 384x640 (no detections), 51.5ms\n",
      "0: 384x640 (no detections), 47.0ms\n",
      "0: 384x640 (no detections), 50.0ms\n",
      "0: 384x640 (no detections), 48.0ms\n",
      "0: 384x640 (no detections), 48.2ms\n",
      "0: 384x640 (no detections), 49.8ms\n",
      "0: 384x640 (no detections), 52.2ms\n",
      "0: 384x640 (no detections), 48.7ms\n",
      "0: 384x640 (no detections), 49.3ms\n",
      "0: 384x640 (no detections), 47.3ms\n",
      "0: 384x640 (no detections), 47.6ms\n",
      "0: 384x640 (no detections), 46.8ms\n",
      "0: 384x640 (no detections), 53.7ms\n",
      "0: 384x640 (no detections), 48.0ms\n",
      "0: 384x640 (no detections), 51.2ms\n",
      "0: 384x640 (no detections), 47.1ms\n",
      "0: 384x640 (no detections), 47.3ms\n",
      "0: 384x640 (no detections), 50.0ms\n",
      "0: 384x640 (no detections), 45.2ms\n",
      "0: 384x640 (no detections), 56.9ms\n",
      "0: 384x640 (no detections), 50.9ms\n",
      "0: 384x640 (no detections), 55.2ms\n",
      "0: 384x640 (no detections), 54.8ms\n",
      "0: 384x640 (no detections), 50.5ms\n",
      "0: 384x640 (no detections), 49.2ms\n",
      "0: 384x640 (no detections), 49.9ms\n",
      "0: 384x640 (no detections), 53.2ms\n",
      "0: 384x640 (no detections), 48.4ms\n",
      "0: 384x640 (no detections), 48.3ms\n",
      "0: 384x640 (no detections), 57.1ms\n",
      "0: 384x640 (no detections), 53.8ms\n",
      "0: 384x640 (no detections), 48.2ms\n",
      "0: 384x640 (no detections), 54.8ms\n",
      "0: 384x640 (no detections), 52.5ms\n",
      "0: 384x640 (no detections), 53.6ms\n",
      "0: 384x640 (no detections), 50.4ms\n",
      "0: 384x640 (no detections), 50.5ms\n",
      "0: 384x640 (no detections), 54.6ms\n",
      "0: 384x640 (no detections), 54.6ms\n",
      "0: 384x640 (no detections), 53.0ms\n",
      "0: 384x640 (no detections), 52.4ms\n",
      "0: 384x640 (no detections), 52.2ms\n",
      "0: 384x640 (no detections), 51.2ms\n",
      "0: 384x640 (no detections), 51.0ms\n",
      "0: 384x640 (no detections), 49.1ms\n",
      "0: 384x640 (no detections), 53.7ms\n",
      "0: 384x640 (no detections), 49.3ms\n",
      "0: 384x640 (no detections), 50.2ms\n",
      "0: 384x640 (no detections), 49.8ms\n",
      "^C\n",
      "Traceback (most recent call last):\n",
      "  File \"/Users/justusthomsen/Documents/LinkIT/Challenges/Expert Challenge/linkit_hand_gesture_recognition/yolov5/detect.py\", line 261, in <module>\n",
      "    main(opt)\n",
      "  File \"/Users/justusthomsen/Documents/LinkIT/Challenges/Expert Challenge/linkit_hand_gesture_recognition/yolov5/detect.py\", line 256, in main\n",
      "    run(**vars(opt))\n",
      "  File \"/Users/justusthomsen/Documents/LinkIT/Challenges/Expert Challenge/linkit_hand_gesture_recognition/venv/lib/python3.10/site-packages/torch/autograd/grad_mode.py\", line 27, in decorate_context\n",
      "    return func(*args, **kwargs)\n",
      "  File \"/Users/justusthomsen/Documents/LinkIT/Challenges/Expert Challenge/linkit_hand_gesture_recognition/yolov5/detect.py\", line 128, in run\n",
      "    pred = model(im, augment=augment, visualize=visualize)\n",
      "  File \"/Users/justusthomsen/Documents/LinkIT/Challenges/Expert Challenge/linkit_hand_gesture_recognition/venv/lib/python3.10/site-packages/torch/nn/modules/module.py\", line 1190, in _call_impl\n",
      "    return forward_call(*input, **kwargs)\n",
      "  File \"/Users/justusthomsen/Documents/LinkIT/Challenges/Expert Challenge/linkit_hand_gesture_recognition/yolov5/models/common.py\", line 515, in forward\n",
      "    y = self.model(im, augment=augment, visualize=visualize) if augment or visualize else self.model(im)\n",
      "  File \"/Users/justusthomsen/Documents/LinkIT/Challenges/Expert Challenge/linkit_hand_gesture_recognition/venv/lib/python3.10/site-packages/torch/nn/modules/module.py\", line 1190, in _call_impl\n",
      "    return forward_call(*input, **kwargs)\n",
      "  File \"/Users/justusthomsen/Documents/LinkIT/Challenges/Expert Challenge/linkit_hand_gesture_recognition/yolov5/models/yolo.py\", line 209, in forward\n",
      "    return self._forward_once(x, profile, visualize)  # single-scale inference, train\n",
      "  File \"/Users/justusthomsen/Documents/LinkIT/Challenges/Expert Challenge/linkit_hand_gesture_recognition/yolov5/models/yolo.py\", line 121, in _forward_once\n",
      "    x = m(x)  # run\n",
      "  File \"/Users/justusthomsen/Documents/LinkIT/Challenges/Expert Challenge/linkit_hand_gesture_recognition/venv/lib/python3.10/site-packages/torch/nn/modules/module.py\", line 1190, in _call_impl\n",
      "    return forward_call(*input, **kwargs)\n",
      "  File \"/Users/justusthomsen/Documents/LinkIT/Challenges/Expert Challenge/linkit_hand_gesture_recognition/yolov5/models/common.py\", line 59, in forward_fuse\n",
      "    return self.act(self.conv(x))\n",
      "  File \"/Users/justusthomsen/Documents/LinkIT/Challenges/Expert Challenge/linkit_hand_gesture_recognition/venv/lib/python3.10/site-packages/torch/nn/modules/module.py\", line 1190, in _call_impl\n",
      "    return forward_call(*input, **kwargs)\n",
      "  File \"/Users/justusthomsen/Documents/LinkIT/Challenges/Expert Challenge/linkit_hand_gesture_recognition/venv/lib/python3.10/site-packages/torch/nn/modules/conv.py\", line 463, in forward\n",
      "    return self._conv_forward(input, self.weight, self.bias)\n",
      "  File \"/Users/justusthomsen/Documents/LinkIT/Challenges/Expert Challenge/linkit_hand_gesture_recognition/venv/lib/python3.10/site-packages/torch/nn/modules/conv.py\", line 459, in _conv_forward\n",
      "    return F.conv2d(input, weight, bias, self.stride,\n",
      "KeyboardInterrupt\n"
     ]
    }
   ],
   "source": [
    "!cd yolov5 && python3 detect.py --source 0 --weights runs/train/exp/weights/last.pt --conf 0.4"
   ]
  },
  {
   "attachments": {},
   "cell_type": "markdown",
   "metadata": {
    "pycharm": {
     "name": "#%% md\n"
    }
   },
   "source": []
  }
 ],
 "metadata": {
  "kernelspec": {
   "display_name": "venvExChal",
   "language": "python",
   "name": "python3"
  },
  "language_info": {
   "codemirror_mode": {
    "name": "ipython",
    "version": 3
   },
   "file_extension": ".py",
   "mimetype": "text/x-python",
   "name": "python",
   "nbconvert_exporter": "python",
   "pygments_lexer": "ipython3",
   "version": "3.10.10"
  }
 },
 "nbformat": 4,
 "nbformat_minor": 1
}
